{
 "cells": [
  {
   "cell_type": "code",
   "execution_count": 1,
   "id": "36754d5b",
   "metadata": {},
   "outputs": [],
   "source": [
    "import numpy as np"
   ]
  },
  {
   "cell_type": "code",
   "execution_count": 37,
   "id": "f4e932ac",
   "metadata": {},
   "outputs": [],
   "source": [
    "def coin():\n",
    "    coin_toss = []\n",
    "    for i in range (100000):\n",
    "        HT = np.random.uniform()\n",
    "        if HT>=0.5:\n",
    "            coin_toss.append(1)\n",
    "        elif HT<=0.5:\n",
    "            coin_toss.append(0)\n",
    "    return coin_toss"
   ]
  },
  {
   "cell_type": "code",
   "execution_count": 38,
   "id": "59807961",
   "metadata": {},
   "outputs": [
    {
     "data": {
      "text/plain": [
       "0.49933"
      ]
     },
     "execution_count": 38,
     "metadata": {},
     "output_type": "execute_result"
    }
   ],
   "source": [
    "coin().count(1)/100000"
   ]
  },
  {
   "cell_type": "code",
   "execution_count": 39,
   "id": "812c38c6",
   "metadata": {},
   "outputs": [
    {
     "data": {
      "text/plain": [
       "array([10, 17, 19, 17, 11, 11, 18, 10, 19, 17, 16, 10, 16, 18, 10, 19, 19,\n",
       "       17, 18, 19, 11, 13, 16, 11, 10, 18, 15, 14, 18, 19, 17, 14, 10, 17,\n",
       "       16, 15, 12, 12, 19, 13, 14, 11, 12, 10, 15, 17, 10, 14, 19, 15, 11,\n",
       "       15, 16, 18, 11, 14, 18, 12, 10, 13, 16, 18, 16, 15, 10, 18, 18, 16,\n",
       "       16, 18, 13, 14, 15, 16, 19, 11, 15, 11, 12, 11, 17, 14, 12, 14, 17,\n",
       "       13, 12, 18, 12, 16, 19, 12, 12, 18, 13, 14, 18, 15, 11, 16, 19, 17,\n",
       "       12, 14, 11, 13, 11, 11, 16, 13, 12, 15, 19, 10, 19, 19, 14, 12, 13,\n",
       "       19, 12, 17, 15, 10, 13, 18, 14, 18, 13, 12, 14, 10, 10, 18, 14, 14,\n",
       "       10, 15, 13, 16, 12, 12, 11, 18, 14, 13, 12, 11, 11, 12, 13, 13, 18,\n",
       "       18, 15, 16, 17, 11, 13, 12, 17, 16, 10, 12, 16, 17, 15, 17, 11, 10,\n",
       "       14, 16, 16, 17, 19, 11, 13, 18, 19, 18, 17, 10, 12, 18, 11, 18, 15,\n",
       "       11, 19, 17, 13, 11, 11, 13, 15, 13, 12, 18, 11, 10, 15, 10, 16, 12,\n",
       "       13, 12, 13, 15, 14, 13, 11, 16, 13, 14, 11, 13, 17, 19, 12, 19, 10,\n",
       "       18, 17, 14, 16, 19, 15, 11, 10, 15, 11, 13, 17, 17, 14, 12, 11, 17,\n",
       "       19, 17, 15, 13, 19, 13, 19, 14, 16, 14, 13, 13, 12, 15, 12, 19, 11,\n",
       "       18, 16, 11, 16, 17, 13, 15, 16, 19, 14, 14, 19, 10, 12, 18, 19, 12,\n",
       "       11, 18, 11, 18, 13, 11, 13, 12, 14, 19, 13, 12, 11, 17, 10, 13, 14,\n",
       "       18, 17, 11, 12, 16, 10, 19, 11, 11, 11, 16, 19, 17, 18, 10, 11, 16,\n",
       "       13, 17, 10, 19, 19, 13, 16, 14, 10, 16, 13, 18, 13, 15, 17, 14, 18,\n",
       "       18, 10, 12, 10, 17, 16, 14, 19, 14, 11, 17, 15, 10, 11, 18, 19, 15,\n",
       "       10, 14, 12, 16, 16, 19, 16, 18, 17, 10, 16, 16, 18, 15, 12, 12, 13,\n",
       "       15, 16, 14, 16, 15, 18, 17, 17, 14, 17, 18, 19, 13, 18, 16, 12, 11,\n",
       "       12, 11, 16, 10, 18, 17, 12, 17, 18, 15, 19, 14, 12, 19, 17, 17, 17,\n",
       "       16, 18, 15, 17, 19, 13, 18, 15, 14, 19, 17, 16, 19, 10, 18, 17, 10,\n",
       "       14, 14, 12, 14, 14, 13, 16, 16, 17, 19, 11, 15, 17, 17, 16, 10, 12,\n",
       "       19, 18, 14, 18, 15, 16, 13, 14, 14, 11, 11, 17, 10, 16, 17, 17, 18,\n",
       "       11, 13, 10, 11, 15, 16, 13, 16, 14, 18, 19, 17, 16, 13, 13, 17, 14,\n",
       "       10, 17, 17, 15, 15, 15, 13, 15, 18, 13, 12, 10, 16, 11, 16, 12, 12,\n",
       "       17, 19, 16, 16, 10, 10, 18, 17, 18, 18, 15, 19, 12, 18, 17, 13, 14,\n",
       "       11, 18, 16, 10, 15, 12, 13, 16, 12, 10, 17, 12, 16, 18, 12, 10, 19,\n",
       "       15, 13, 11, 10, 19, 11, 11, 18, 16, 17, 13, 17, 17, 15, 15, 14, 17,\n",
       "       12, 14, 10, 17, 18, 11, 13, 11, 13, 14, 12, 10, 15, 11, 11, 14, 10,\n",
       "       18, 17, 18, 15, 12, 11, 19, 11, 15, 18, 11, 19, 10, 11, 14, 13, 13,\n",
       "       10, 10, 10, 11, 14, 15, 14, 18, 19, 14, 17, 16, 14, 17, 18, 16, 10,\n",
       "       18, 18, 13, 13, 14, 12, 19, 12, 19, 17, 11, 18, 16, 12, 15, 13, 18,\n",
       "       12, 13, 10, 10, 19, 15, 17, 10, 17, 14, 19, 14, 19, 17, 16, 15, 17,\n",
       "       16, 12, 14, 14, 19, 18, 18, 14, 16, 18, 15, 13, 16, 12, 18, 14, 18,\n",
       "       10, 19, 15, 18, 10, 10, 13, 18, 18, 10, 14, 16, 10, 12, 13, 18, 13,\n",
       "       19, 19, 14, 11, 12, 11, 19, 10, 12, 15, 14, 15, 11, 18, 12, 19, 19,\n",
       "       12, 17, 13, 15, 14, 15, 18, 14, 11, 15, 10, 11, 15, 16, 19, 12, 13,\n",
       "       13, 10, 18, 17, 12, 18, 15, 15, 15, 11, 14, 12, 18, 17, 18, 17, 19,\n",
       "       18, 16, 11, 14, 17, 15, 13, 19, 11, 11, 15, 13, 18, 13, 13, 16, 14,\n",
       "       14, 13, 14, 11, 15, 15, 11, 18, 19, 11, 13, 15, 15, 10, 14, 12, 15,\n",
       "       10, 14, 17, 14, 13, 17, 19, 11, 15, 13, 14, 14, 17, 12, 19, 15, 17,\n",
       "       19, 11, 17, 17, 10, 18, 17, 14, 16, 17, 15, 19, 14, 18, 18, 18, 10,\n",
       "       11, 12, 17, 18, 16, 19, 15, 18, 12, 16, 15, 13, 13, 12, 14, 17, 16,\n",
       "       10, 17, 14, 10, 17, 13, 14, 19, 18, 16, 17, 11, 15, 14, 16, 14, 10,\n",
       "       15, 13, 14, 11, 15, 18, 11, 11, 15, 11, 15, 18, 16, 10, 16, 19, 12,\n",
       "       10, 16, 18, 16, 11, 12, 16, 16, 18, 19, 12, 15, 11, 14, 15, 14, 11,\n",
       "       14, 17, 12, 17, 12, 19, 10, 12, 19, 17, 12, 10, 15, 13, 13, 12, 15,\n",
       "       10, 15, 18, 15, 14, 10, 16, 10, 17, 19, 10, 13, 10, 17, 19, 18, 10,\n",
       "       17, 10, 13, 17, 10, 11, 15, 14, 16, 17, 12, 10, 11, 14, 11, 11, 10,\n",
       "       10, 14, 18, 14, 10, 14, 15, 10, 12, 13, 15, 10, 13, 17, 16, 16, 12,\n",
       "       18, 13, 11, 15, 19, 18, 13, 17, 12, 10, 13, 13, 19, 13, 16, 18, 17,\n",
       "       13, 17, 15, 13, 11, 11, 10, 13, 17, 19, 14, 13, 11, 14, 15, 18, 18,\n",
       "       18, 18, 12, 16, 16, 13, 15, 19, 15, 10, 19, 15, 17, 10, 13, 10, 12,\n",
       "       18, 17, 17, 19, 12, 14, 14, 19, 18, 18, 17, 15, 13, 16, 10, 10, 15,\n",
       "       18, 17, 13, 19, 14, 17, 11, 16, 17, 12, 12, 11, 11, 17, 18, 18, 16,\n",
       "       14, 10, 16, 17, 13, 19, 14, 13, 19, 15, 11, 17, 12, 17])"
      ]
     },
     "execution_count": 39,
     "metadata": {},
     "output_type": "execute_result"
    }
   ],
   "source": [
    "population = np.random.randint(10,20,1000)\n"
   ]
  },
  {
   "cell_type": "code",
   "execution_count": 42,
   "id": "5a6d569c",
   "metadata": {},
   "outputs": [],
   "source": [
    "popmean = population.mean()\n",
    "popstd = population.std()"
   ]
  },
  {
   "cell_type": "code",
   "execution_count": 44,
   "id": "f8fa86e2",
   "metadata": {},
   "outputs": [],
   "source": [
    "from statistics import mode\n",
    "popmode = mode(population)\n",
    "popmedian = np.median(population)\n",
    "popvar = popstd**2"
   ]
  },
  {
   "cell_type": "code",
   "execution_count": 49,
   "id": "b71cdf11",
   "metadata": {},
   "outputs": [
    {
     "data": {
      "text/plain": [
       "array([13, 18, 17, 13, 18, 15, 10, 14, 17, 13, 15, 15, 17, 12, 10, 16, 19,\n",
       "       12, 14, 10])"
      ]
     },
     "execution_count": 49,
     "metadata": {},
     "output_type": "execute_result"
    }
   ],
   "source": [
    "Sample = np.random.choice(population, 20)\n",
    "Sample2 = np.random.choice(population, 20)\n",
    "Sample3 = np.random.choice(population, 20)\n",
    "Sample"
   ]
  },
  {
   "cell_type": "code",
   "execution_count": 50,
   "id": "b9f2b9e5",
   "metadata": {},
   "outputs": [
    {
     "name": "stdout",
     "output_type": "stream",
     "text": [
      "14.542 14.4\n"
     ]
    }
   ],
   "source": [
    "print(popmean,Sample.mean())"
   ]
  },
  {
   "cell_type": "code",
   "execution_count": 51,
   "id": "271852e0",
   "metadata": {},
   "outputs": [
    {
     "name": "stdout",
     "output_type": "stream",
     "text": [
      "2.864303754841654 2.7092434368288134\n"
     ]
    }
   ],
   "source": [
    "print(popstd,Sample.std())"
   ]
  },
  {
   "cell_type": "code",
   "execution_count": 52,
   "id": "d038a743",
   "metadata": {},
   "outputs": [
    {
     "name": "stdout",
     "output_type": "stream",
     "text": [
      "13 13 12\n"
     ]
    }
   ],
   "source": [
    "print(mode(Sample),mode(Sample2),mode(Sample3))"
   ]
  },
  {
   "cell_type": "code",
   "execution_count": 55,
   "id": "a8f7b7d0",
   "metadata": {},
   "outputs": [],
   "source": [
    "import pandas as pd\n",
    "df1 = pd.DataFrame(dict(id = range(6), age = np.random.randint(18,31, size = 6)))"
   ]
  },
  {
   "cell_type": "code",
   "execution_count": 58,
   "id": "b09b8c50",
   "metadata": {},
   "outputs": [
    {
     "name": "stdout",
     "output_type": "stream",
     "text": [
      "22.333333333333332 2.6583202716502514 21.5 0    21\n",
      "dtype: int32\n"
     ]
    }
   ],
   "source": [
    "print(df1.age.mean(),\n",
    "df1.age.std(),\n",
    "df1.age.median(),\n",
    "df1.age.mode())"
   ]
  },
  {
   "cell_type": "code",
   "execution_count": 108,
   "id": "b386734a",
   "metadata": {},
   "outputs": [
    {
     "data": {
      "text/plain": [
       "array([ 2.13915763,  0.16812187, -0.36489948,  1.79654207,  0.69275059,\n",
       "        0.59908614, -0.22732094, -0.80909599, -0.37463929,  0.78247407,\n",
       "       -0.19292727, -0.18848025,  1.05382463,  0.72176067,  0.06993684,\n",
       "       -0.21975274,  0.03001227, -0.72352868,  0.01472398,  0.9335157 ,\n",
       "       -0.73203392,  1.17533967, -1.24620336, -1.03740015, -1.71226697,\n",
       "       -0.25034179, -0.58239035, -0.83826138,  1.98477919,  0.38074385,\n",
       "        2.32921832,  0.31489017, -0.85903486,  0.80554848,  0.81055176,\n",
       "       -1.56221168,  0.50742253, -1.53696948,  0.85790231,  1.53085517,\n",
       "        1.80740458,  0.16769444, -0.14096463, -0.93314736,  0.11197083,\n",
       "        0.31048462, -2.18431237, -0.91938767, -0.12293935, -0.2474396 ,\n",
       "       -0.17469376,  0.35028576,  0.71331586, -2.74811907, -0.60060294,\n",
       "        0.53387606,  0.5665364 ,  0.07957052, -2.04037527, -0.70521261,\n",
       "       -1.28111324, -0.64843264, -1.06599199,  1.12325187,  1.04340166,\n",
       "        1.19046079, -0.59670266, -0.5208354 ,  0.67798103, -0.08950206,\n",
       "       -0.35541363, -1.27587278, -0.54677583,  0.53223715, -1.79182385,\n",
       "        0.99050318,  1.596997  , -0.35667117, -0.18480464,  0.26700652,\n",
       "       -0.12131618,  0.72884759,  0.85470585,  1.17309103,  0.83762387,\n",
       "        1.63380358, -1.22046277,  2.27435873, -1.54862814,  0.02750143,\n",
       "       -0.845926  ,  0.54393613,  0.05043309, -0.38996013,  0.52079355,\n",
       "       -1.1152128 , -0.28578935,  0.39853899, -1.6780535 , -2.50271812])"
      ]
     },
     "execution_count": 108,
     "metadata": {},
     "output_type": "execute_result"
    }
   ],
   "source": [
    "sample4 = np.random.normal(size = 100)\n",
    "sample4"
   ]
  },
  {
   "cell_type": "code",
   "execution_count": 109,
   "id": "276b12d1",
   "metadata": {},
   "outputs": [
    {
     "data": {
      "text/plain": [
       "(array([ 2.,  0.,  2.,  1.,  5.,  3.,  4.,  8.,  7., 10., 11.,  7., 10.,\n",
       "         9.,  8.,  4.,  1.,  4.,  1.,  3.]),\n",
       " array([-2.74811907, -2.4942522 , -2.24038533, -1.98651846, -1.73265159,\n",
       "        -1.47878472, -1.22491785, -0.97105098, -0.71718411, -0.46331724,\n",
       "        -0.20945037,  0.0444165 ,  0.29828337,  0.55215024,  0.80601711,\n",
       "         1.05988398,  1.31375085,  1.56761771,  1.82148458,  2.07535145,\n",
       "         2.32921832]),\n",
       " <BarContainer object of 20 artists>)"
      ]
     },
     "execution_count": 109,
     "metadata": {},
     "output_type": "execute_result"
    },
    {
     "data": {
      "image/png": "[encoded data removed]",
      "text/plain": [
       "<Figure size 432x288 with 1 Axes>"
      ]
     },
     "metadata": {
      "needs_background": "light"
     },
     "output_type": "display_data"
    }
   ],
   "source": [
    "import matplotlib.pyplot as plt\n",
    "plt.hist(sample4, bins = 20)"
   ]
  },
  {
   "cell_type": "code",
   "execution_count": 89,
   "id": "a7acf9df",
   "metadata": {},
   "outputs": [
    {
     "data": {
      "text/plain": [
       "array([ 8,  4,  6,  5,  7,  7,  4,  3,  4,  7,  3,  8,  4,  5,  5,  2,  4,\n",
       "        7,  7,  3,  6,  7,  5,  6,  5,  2,  4,  7,  7,  6,  5,  7,  6,  6,\n",
       "        6,  4,  4,  4, 10,  5,  6,  3,  7,  6,  5,  4,  6,  3,  4,  6,  5,\n",
       "        4,  7,  5,  5,  6,  5,  3,  7,  4,  6,  4,  6,  3,  4,  6,  4,  5,\n",
       "        6,  6,  5,  6,  6,  6,  2,  8,  5,  7,  4,  5,  5,  1,  6,  6,  5,\n",
       "        4,  7,  8,  6,  5,  6,  4,  4,  4,  6,  3,  5,  5,  6,  5])"
      ]
     },
     "execution_count": 89,
     "metadata": {},
     "output_type": "execute_result"
    }
   ],
   "source": [
    "sample5 = np.random.binomial(10, 0.5, 100)\n",
    "sample5"
   ]
  },
  {
   "cell_type": "code",
   "execution_count": 114,
   "id": "6a3264aa",
   "metadata": {},
   "outputs": [
    {
     "data": {
      "text/plain": [
       "(array([0.02666667, 0.05333333, 0.28666667, 0.17333333, 0.12      ,\n",
       "        0.00666667]),\n",
       " array([ 1. ,  2.5,  4. ,  5.5,  7. ,  8.5, 10. ]),\n",
       " <BarContainer object of 6 artists>)"
      ]
     },
     "execution_count": 114,
     "metadata": {},
     "output_type": "execute_result"
    },
    {
     "data": {
      "image/png": "[encoded data removed]",
      "text/plain": [
       "<Figure size 432x288 with 1 Axes>"
      ]
     },
     "metadata": {
      "needs_background": "light"
     },
     "output_type": "display_data"
    }
   ],
   "source": [
    "plt.hist(sample5, bins = 6, density = True)"
   ]
  },
  {
   "cell_type": "code",
   "execution_count": 115,
   "id": "9f013c7c",
   "metadata": {},
   "outputs": [
    {
     "data": {
      "text/plain": [
       "(array([1.000e+00, 0.000e+00, 1.000e+00, 2.000e+00, 5.000e+00, 5.000e+00,\n",
       "        1.400e+01, 3.200e+01, 4.400e+01, 8.100e+01, 1.240e+02, 2.150e+02,\n",
       "        3.770e+02, 5.730e+02, 8.000e+02, 1.149e+03, 1.605e+03, 2.281e+03,\n",
       "        2.865e+03, 3.602e+03, 4.362e+03, 5.133e+03, 5.822e+03, 6.468e+03,\n",
       "        6.918e+03, 7.095e+03, 7.275e+03, 6.837e+03, 6.425e+03, 5.931e+03,\n",
       "        5.219e+03, 4.400e+03, 3.669e+03, 2.980e+03, 2.304e+03, 1.739e+03,\n",
       "        1.179e+03, 8.800e+02, 6.200e+02, 3.930e+02, 2.450e+02, 1.470e+02,\n",
       "        9.100e+01, 4.600e+01, 2.300e+01, 1.100e+01, 8.000e+00, 1.000e+00,\n",
       "        2.000e+00, 1.000e+00]),\n",
       " array([-463.87872184, -442.25609699, -420.63347213, -399.01084727,\n",
       "        -377.38822241, -355.76559755, -334.1429727 , -312.52034784,\n",
       "        -290.89772298, -269.27509812, -247.65247326, -226.02984841,\n",
       "        -204.40722355, -182.78459869, -161.16197383, -139.53934897,\n",
       "        -117.91672411,  -96.29409926,  -74.6714744 ,  -53.04884954,\n",
       "         -31.42622468,   -9.80359982,   11.81902503,   33.44164989,\n",
       "          55.06427475,   76.68689961,   98.30952447,  119.93214932,\n",
       "         141.55477418,  163.17739904,  184.8000239 ,  206.42264876,\n",
       "         228.04527362,  249.66789847,  271.29052333,  292.91314819,\n",
       "         314.53577305,  336.15839791,  357.78102276,  379.40364762,\n",
       "         401.02627248,  422.64889734,  444.2715222 ,  465.89414705,\n",
       "         487.51677191,  509.13939677,  530.76202163,  552.38464649,\n",
       "         574.00727135,  595.6298962 ,  617.25252106]),\n",
       " <BarContainer object of 50 artists>)"
      ]
     },
     "execution_count": 115,
     "metadata": {},
     "output_type": "execute_result"
    },
    {
     "data": {
      "image/png": "[encoded data removed]",
      "text/plain": [
       "<Figure size 432x288 with 1 Axes>"
      ]
     },
     "metadata": {
      "needs_background": "light"
     },
     "output_type": "display_data"
    }
   ],
   "source": [
    "sample6 = np.random.normal(100, 120, size = 100000)\n",
    "plt.hist(sample6, bins = 50)"
   ]
  },
  {
   "cell_type": "code",
   "execution_count": 120,
   "id": "75a9b485",
   "metadata": {
    "scrolled": false
   },
   "outputs": [
    {
     "name": "stdout",
     "output_type": "stream",
     "text": [
      "[  3.08307694 -11.01368711   4.38999496  -1.00091131  15.66146366\n",
      "   8.69149409   3.26421775  -3.46080894  -8.74527535   9.98131372\n",
      "  19.45533989   0.19248038  14.5957522   -5.7196167   12.80099162\n",
      "   1.59905053   0.81535195  -0.85452493 -10.0243324   11.36176102\n",
      " -13.15861553  11.48993985  -9.65405016  16.25888867   4.98676856\n",
      "   3.71576528  12.99013369   5.32271264 -10.88051898  22.03501194\n",
      "  10.27320615  13.49975016   5.80034683  -6.90718228 -10.74613385\n",
      "  -5.98051568   4.66217844   5.86942446 -10.83587245 -14.85581023\n",
      " -11.65222043   2.99086819  12.69233324   3.92245262   5.33042187\n",
      "   0.97404312  10.78193082   1.35689668   9.16534456  -5.66288733\n",
      "   1.5107736    0.64267264   0.05454324   3.117819     4.81311561\n",
      "  -9.31777721   4.32264037  20.03502708  -3.42530233   3.32904087\n",
      " -13.78175704   4.85260996  11.43056809   2.28339674  -5.50139373\n",
      "  -7.22942243   4.50477684 -11.33069132  24.48854171  -1.49607469\n",
      "   6.71736264 -10.57380716   9.23115387   5.13348632  -2.61297487\n",
      "   6.1633252   12.14270349  -6.72483238  16.7500343   23.85478771\n",
      "  20.24362637  15.42244421   0.99322153 -23.38755425  18.75302554\n",
      " -14.37683527   6.8000233   13.84662821   8.18363822  -0.05915994\n",
      "  12.40773568   4.86124275   4.95168972   7.57103765   0.81323144\n",
      "  11.01641147  16.19904481  14.0657695   20.29223485   1.78074493\n",
      "  -0.91816577   3.28020166  -5.48006379   7.76863845  -1.12971742\n",
      "   8.63136042   8.07542057   1.54045393  -5.4854043   21.72059889\n",
      "   0.78409689  16.46521589   3.56996629   7.61172264   2.98513656\n",
      "  -1.34122869   0.55457541   2.31367006  -3.27804039  -9.18802757\n",
      "  -0.03961301  -5.45638352  14.59573619   3.27366877   4.66123179\n",
      "  27.25358239  17.04998332   9.58664348  -3.22425422  16.61015978\n",
      "  -2.14593268  10.16871316   3.80900841   6.45333546  18.98509299\n",
      "  24.61763576 -17.06401454  -3.33698444  -2.28292702  16.97377247\n",
      "  -7.01431349  16.97956379  13.89278307  -0.82816343  10.32235469\n",
      "  12.58348994   7.67147797   4.13085964  -1.78096664   9.63273621\n",
      "   0.1368378    8.83821997   1.25219006   5.88135314  18.66515844\n",
      "   6.37239228  12.46468556 -17.71261739  13.72990708  15.12767078\n",
      "   7.8290322   25.64711306  -6.97374823  10.82739031  -0.13379207\n",
      "  -6.04128021  -2.60574069  -6.58759951  13.07376436  14.7685169\n",
      "  -2.77942087   2.89147994  10.48752937  13.94269515  -0.76933216\n",
      "   7.89840625   7.89173005   7.91776165  14.22132127  -3.899988\n",
      "  -5.32029053   9.79456444  21.2346901    6.95052841  -1.01418282\n",
      "   7.8273245    8.45143265  -7.62878773  -8.49169721  12.9177042\n",
      "   4.12336901  12.03815494   1.22161198  -2.98460129  -8.17102836\n",
      "   3.85050178   2.86472264  22.81155607   1.94891257  -7.08533212\n",
      "  -9.76469713   8.81443892   1.35347232   1.18131803   4.76668146\n",
      "   3.74586676  21.9742887   -0.22340252   6.67483098  -0.5181793\n",
      "   5.19463281  -5.8718105    2.43869585  20.7339469   14.51566407\n",
      "  12.36192457  18.39864717  -4.28087116  23.43394157  13.00669325\n",
      "   2.2022027    4.1489664    5.51404052 -18.79424005   3.55603783\n",
      "  -9.56008768  19.34253591  -8.0169367   11.41731286  17.07506055\n",
      "  20.53933463   3.97743991   1.63927686  21.55296424   2.42501049\n",
      " -10.26166775  16.99963539   8.68851701  -5.53298235  -4.64811361\n",
      "  -3.67648172   5.14275117  -3.62320561  -3.55399229   1.39385282\n",
      "  -4.70057519  11.18372835   0.14698361   3.88412556  21.89694655\n",
      " -16.07051856  19.70681233   4.57510969  -1.36094658   0.91932969\n",
      " -10.43748391  -2.80213207   1.96882618  19.38274111   3.32761296\n",
      "   2.552123     7.89953649   6.07486518   0.44637223  11.86161584\n",
      "  12.72985952   7.62443281  -8.20446773  12.46175188   9.67323694\n",
      "  -3.34634464   6.67483723   6.84465149  15.05554407  19.40012499\n",
      "  14.56354401 -12.49164211   4.39107778   0.49410974  10.59775567\n",
      "  10.96584054 -10.65151712   4.88029833   6.77477628  15.29546758\n",
      "  -2.98043977   8.04141637  -6.19384537  22.69365412  11.41326405\n",
      "   0.27379332  26.26309066  -2.969284    18.351776     4.98169636\n",
      "  20.12573678  14.94160938  19.61535959  11.6426448    1.93591724\n",
      "  18.88544307  20.95415774  -1.73694315  10.57967388 -11.77332426\n",
      "  -2.35659904   4.86463254  20.37181826   3.82006372   5.14011491\n",
      "  -4.61806858   1.75529774  -2.13836823   3.21190266  10.57347645\n",
      "  12.52822695  15.42186564   9.80857791  -8.15318561  19.2119993\n",
      "  15.46733745  -5.26040937  -7.62660226   4.19276631  12.23648541\n",
      "   3.95268891  -1.71037269   1.22878442   9.56916984   9.95293971\n",
      "   9.98974252  -9.20468235   6.2152276    5.0089612    1.50328557\n",
      "   7.43714663   2.43215551  14.98800465   8.5542065    6.63212835\n",
      "   3.10906307   6.80032323  10.26717475  10.33037786  -4.13258716\n",
      "  -5.74190719   1.77786962  -8.78587994   4.3818426    1.11526973\n",
      "  -1.0036199   -0.64050911   6.72491335  11.98003537   0.33889379\n",
      "  -5.77169176   9.27710507  15.31875282  15.07407418  10.0720375\n",
      "  17.94981949  17.16031485   8.12230517   2.41485159   0.18119389\n",
      "  12.65607689  19.16763698  11.79175222  15.3708812   -3.26925571\n",
      "   1.59782266   3.63683257 -15.39707827   8.85717824   2.84876331\n",
      "   7.67140583  -3.10634268  -4.97988951   5.26142353  -8.59892566\n",
      "   5.3133501  -11.82030214   3.32339527  19.23086207   8.52268708\n",
      "   9.86803337  17.33476068  -1.53398732   4.24772168  16.01607474\n",
      " -14.6493836    0.25472115   0.23706533   1.42094994  -5.15008917\n",
      "  -1.3775465    2.93264846   0.13564557   7.47625424  -2.57255044\n",
      "   2.14905571  15.35830631   3.2987283  -17.61282503   4.02487643\n",
      "  -5.61135223  -1.26783817  -1.1751328   17.32735505  -1.30923859\n",
      "  10.54018003  -3.01901873   4.04822397   4.38222978  18.29624895\n",
      "   9.53440188   6.38506545  10.42744347  15.80001945 -15.04232002\n",
      "  -8.36618606   8.74392118  12.43393369   2.4035047  -10.80633669\n",
      "   2.34311573  -4.81249044   3.23351058  -5.57442539   6.67297923\n",
      "   3.91530688  10.83748159   3.11881664  -3.36137809   1.14227155\n",
      "  10.72977693  12.45623252   7.58700758  14.97277173  -5.77617966\n",
      "  -7.12790117   5.54701235   3.33345115   0.62262878  15.62123206\n",
      " -10.61567838   5.43126732  22.49153637   2.27877895  -9.06255128\n",
      "  17.29448965   9.68734516  -7.63869375 -12.56867934  14.42516826\n",
      "   3.85418347   3.8397122    5.68921363  14.79542462  25.58354982\n",
      "  -9.7680295    7.09110604  20.53697419  31.63030605   0.05441447\n",
      "  18.49824858   6.84010841 -11.47524641   3.44096176  13.5561353\n",
      "  -4.60164067   9.62047637 -17.07454512 -19.99470698  -3.71948026\n",
      "  -2.73231796  -9.37586927  -1.94861228 -17.64134601  -4.41815802\n",
      " -13.82460629 -14.80136506  15.17836153   9.84003472   9.57040865\n",
      "  -6.1954665   11.48250017   5.3149554   12.12704135  -7.36604209\n",
      "  -5.99424356  11.16021693  13.21828059  16.39281479  12.10686501\n",
      "  11.96614717   6.91144913   9.28476865   1.59760394  14.89462648] [ 1.21556423e+01  1.42331031e+01  5.98916148e+00 -1.10692743e+01\n",
      "  1.67209593e+01 -3.53095040e+00  1.37877294e+00 -8.14082883e+00\n",
      "  1.05608983e+01 -9.60578949e-01  1.27117578e+01  2.37050601e+00\n",
      " -2.10746052e+00 -4.27751071e-01 -4.56400385e+00  1.20920216e+00\n",
      "  2.27779129e+00  1.64704930e+01 -3.87344344e+00 -4.49332019e+00\n",
      " -1.33179315e+01  1.32508128e+01 -1.04087321e+01  1.75352884e+01\n",
      " -1.13485270e-01 -4.78889890e+00  4.34280099e+00 -3.87159790e+00\n",
      "  9.94415765e+00  4.07037485e+00 -2.59974471e+00  1.38041497e+01\n",
      "  2.15065033e+00  1.72651271e+00  1.30512045e+01  3.15193522e+00\n",
      "  1.04762033e+01  6.83676464e+00  3.59389352e+01  1.28622402e+01\n",
      "  7.36210932e+00  3.52917424e+00 -3.24418544e+00 -1.81949714e+01\n",
      " -2.41263120e+00  1.60539188e+01  2.76396807e+00  1.47968563e+01\n",
      "  1.73999262e+01  6.55966710e+00 -1.78708542e+01 -6.61400206e+00\n",
      " -1.87114354e+00 -3.83483639e+00  9.46532472e-01  5.76795059e+00\n",
      " -6.34373575e+00  2.03420072e+01 -4.51433867e+00 -6.30379741e+00\n",
      "  6.25524523e+00 -4.58667314e+00  9.19440056e+00  7.63953915e+00\n",
      "  7.76995350e+00 -1.82414682e+00 -6.15727053e-01  1.19501624e+00\n",
      " -3.78214066e+00  1.11806612e+01  1.71652656e+00  9.25323184e+00\n",
      "  1.31260044e+01  1.34674188e+01  2.12029352e+01  1.92605901e+01\n",
      "  1.02081015e+01  2.50709019e+01  7.20358375e+00 -4.46144044e+00\n",
      "  1.29068361e+01  2.01818348e+00  8.47518785e+00  2.44081521e+01\n",
      " -7.32057183e+00 -2.38967392e+00  4.61020989e+00  1.50466286e+01\n",
      "  1.73202123e+01 -1.80354462e-01  1.74583673e+00 -6.83049131e+00\n",
      " -1.47356817e+01  1.43892046e+01  2.14113115e+01 -7.91182974e-01\n",
      "  3.38494938e+00 -6.87610544e+00  3.40032260e+01  2.25670163e+01\n",
      "  1.05682825e+01  1.58064820e+00  4.43740013e+00 -5.10476772e+00\n",
      "  1.64401908e+01  9.75689811e+00  1.08269765e+01  1.50159543e+00\n",
      " -3.42609610e+00  6.78481043e+00  1.23017629e+01  1.03936071e+01\n",
      " -1.90279710e+01  2.23370813e+01  1.20397213e+01  4.11654522e+00\n",
      "  3.68878130e+00  1.38252148e+01 -1.02882195e+00  1.14467091e+01\n",
      "  1.24396548e+01  1.01008972e+01  3.83684191e+00  1.01572148e+01\n",
      "  2.22850619e+01  1.63579823e+01  9.52696523e+00  1.02421195e+01\n",
      "  2.40963775e+01  1.95506070e+01 -9.13529148e+00  4.42263370e+00\n",
      " -1.09518427e+01  5.08970850e+00  3.10881273e+00  6.91677927e+00\n",
      "  1.41182195e+01 -1.42759495e+01  1.74389577e+01  4.17256589e+00\n",
      " -5.44247642e+00  6.38830080e+00  4.83079941e+00  1.82510095e+01\n",
      "  1.31065696e+01  1.44142859e+01  1.64811126e+01  2.64508817e+00\n",
      "  2.18500860e+01  1.26944231e+01  3.16543747e+00 -9.72247291e+00\n",
      "  1.23837804e+01  4.02750264e+00 -8.63984025e-01  4.51742864e+00\n",
      "  1.79663386e+01  2.07191349e+01  9.23833041e+00  2.48842375e+01\n",
      " -5.80991649e+00  8.97803794e+00 -5.46626601e+00 -8.58349302e+00\n",
      "  3.41768671e+00 -1.42093634e+01  1.73606008e+01 -1.53790547e+01\n",
      " -9.85796619e-01  7.29608629e+00  6.78534644e+00  1.51038827e+01\n",
      "  2.17597647e+01 -7.54655336e+00 -1.92478022e+01 -5.35700047e+00\n",
      "  2.46641053e+01  1.60699471e+01  1.29908596e+01 -8.50832307e+00\n",
      "  1.93100326e+01 -9.40297625e+00  9.87072013e+00  6.45944979e+00\n",
      "  1.20719550e+00  8.31520004e+00  1.90877296e+00 -1.12321202e-01\n",
      "  1.38644944e+01 -7.67905034e+00  1.88324646e+00 -1.70696920e+00\n",
      "  8.25039350e+00  2.03997248e+01  1.47192879e+01  8.31306055e+00\n",
      "  1.97722455e+01  3.98374367e+00  3.11842294e+00  5.54428447e+00\n",
      "  2.48709009e+01  1.82961741e+01 -1.27642800e+01  5.28377113e+00\n",
      "  6.04933928e+00  1.58055121e+00  2.70746486e-01 -2.43178053e+00\n",
      " -3.06322044e+00  1.42672747e+01  8.65932235e+00  7.65053961e+00\n",
      "  6.43296769e+00  9.68867680e-01  3.78865358e+00  1.17911733e+01\n",
      "  1.76226723e+01 -2.91810559e+00  1.08691617e+01  1.03914149e+01\n",
      "  7.46149235e+00  1.94966563e+00  4.64837855e+00  1.10004306e+01\n",
      " -7.03495413e+00 -3.51271581e+00 -9.07382620e+00  3.55804036e+00\n",
      "  1.21669692e+01 -7.34186472e-01 -3.27993808e+00  4.76879139e+00\n",
      " -1.02569794e+01  1.38474791e+01  7.24142809e+00 -2.58350038e+00\n",
      " -1.88491848e+00  1.34892816e+01 -1.42599162e+01  5.40036317e+00\n",
      "  1.89682170e+01  6.81567217e+00 -7.66533141e+00 -8.01119173e+00\n",
      "  1.25742628e+01 -1.04974818e+01  4.37759565e-01 -8.43194253e+00\n",
      " -1.02276587e+00  1.48009427e+01 -6.02494728e+00  3.70616513e+00\n",
      "  4.70800927e+00  1.27767002e+01  7.67870586e+00  1.13448209e+01\n",
      "  8.39129033e+00  1.21024189e+01  6.88834968e-01  1.55791955e+01\n",
      "  1.36462751e+01 -6.21810055e+00  1.42712467e+01 -2.03879956e+00\n",
      "  1.73287991e+00 -1.07971774e+01  7.39068303e+00  7.09628899e+00\n",
      " -7.87650857e+00  1.20186587e+01  2.02879795e+01 -4.56775986e-01\n",
      "  1.69120080e+01 -1.86135086e+00  1.41527488e+01  6.13893284e+00\n",
      " -1.01666156e+00 -1.86014740e+00  8.01699293e+00  3.94039290e+00\n",
      " -2.98147907e+00  2.83629547e+01  2.83681005e+00  6.92149420e+00\n",
      "  4.27198054e+00 -5.87911195e+00 -3.64997841e-01  1.11927782e+01\n",
      "  2.15732950e+00  2.88977023e-01  2.51425053e+01  7.88272955e+00\n",
      " -3.09906557e+00 -3.15341862e-01 -2.43200078e+00 -3.41338845e+00\n",
      " -3.36268294e+00 -5.67621973e+00 -4.60415330e+00  4.69266635e+00\n",
      "  1.38102858e+01  1.13998531e+01 -8.82421580e-01  1.63072253e+01\n",
      "  2.11910722e+01  7.00831988e+00  6.94742895e+00  2.18624496e+01\n",
      "  3.04551706e+01  1.87851980e+01  1.53129755e+01  1.59697989e+01\n",
      "  1.23993589e+00  1.07408949e+01  1.47419535e+01  1.35884984e+00\n",
      " -2.20716007e+01 -3.08965811e-01  8.00874884e-01  2.85027907e+01\n",
      " -5.92022448e+00  5.72896633e+00 -4.79672654e-02  9.58603483e+00\n",
      "  7.20492414e+00  1.02947917e+01 -1.25617869e+01 -2.64664512e+00\n",
      " -1.16280572e+01 -9.54711433e+00  5.42528185e+00  1.90431450e+01\n",
      "  1.13263702e+00  4.03524534e+00  4.02327824e+00 -4.33308836e+00\n",
      " -3.68874929e+00  7.96886656e+00 -8.07314719e+00  4.04608173e+00\n",
      " -2.80888652e+00  1.78895265e+01  8.93116766e-01  1.92090782e+01\n",
      " -2.33796291e+01  8.90208196e-01  2.68227795e+00  5.51279625e+00\n",
      " -1.53492507e+00  3.09092467e+00  8.87394339e+00  1.80769479e+01\n",
      "  3.36150742e+00  7.24219171e+00  6.93097929e+00  1.81108095e+01\n",
      "  8.97469306e+00  2.08629868e+00  3.13147740e-02 -1.07223989e+01\n",
      "  2.22766464e+01  2.24887440e+00  2.88588933e+00  6.50347913e+00\n",
      " -1.70657535e+00 -8.07980234e+00  5.12451959e+00  1.22446947e+01\n",
      "  6.54047112e+00  1.26267795e+01 -1.04599266e+00 -3.52739073e+00\n",
      "  1.97088970e+01  1.56351536e+01  7.47738335e-01 -5.85609205e+00\n",
      "  1.92589992e+01  1.32003912e+01  3.60892572e+00  7.13171778e+00\n",
      " -2.49771056e+01  1.68114406e+00 -2.12140238e+00 -2.86738557e-01\n",
      "  3.10962986e+00  3.90853139e+00  5.59265895e-01 -8.20781403e-01\n",
      "  1.49010855e+01  2.79006390e+01 -4.63897371e+00  5.43777533e+00\n",
      "  1.88042582e+00  1.51198133e+01  5.27934026e+00  1.98710808e+00\n",
      " -1.30744897e+01 -6.53942294e+00  1.36795712e+01  1.08179946e+01\n",
      "  1.32393239e+01  5.74847338e+00  2.92310828e+00  4.02999745e+00\n",
      " -4.44666947e+00  2.12676939e+00 -3.10825504e+00  8.22404526e+00\n",
      " -1.63579220e+01  1.46036361e+01  2.05011408e+01  1.02427105e+00\n",
      " -9.96421863e+00  3.55896069e+00  4.96637625e+00  2.52190176e+01\n",
      "  1.04542721e+01  8.59293488e+00 -1.55812667e+01  1.11231989e+01\n",
      " -2.39791087e+01 -7.13757373e+00  2.56098147e+01  7.46849003e+00\n",
      "  1.07627129e+01 -1.09538862e+01 -2.71051357e+00 -3.68488378e+01\n",
      " -6.81311381e+00  7.49862368e+00  7.16185297e+00  1.55870176e+01\n",
      " -1.75970174e+00 -7.27221396e+00 -4.25160291e+00  1.99823886e+01\n",
      "  2.00244355e+00  2.13847148e+01  1.15584541e+01  4.70632316e+00\n",
      " -2.18519289e+00  7.99548680e+00  1.85512094e+01  1.43649004e+01\n",
      "  2.45574573e+01  7.12569406e+00  1.60252011e+01 -1.42264672e+01\n",
      "  1.18019387e+00  1.16569148e+01 -4.11830920e+00 -1.23087178e+00\n",
      "  8.85324430e+00  1.36326065e+01 -2.21117721e+00 -2.32302742e+00\n",
      " -3.18813911e+00 -3.48637157e+00  1.94198845e-01  5.79214854e+00\n",
      "  4.34569296e+00  5.21134892e+00  4.10841975e-01  1.02467416e+01\n",
      "  8.20704283e+00 -1.38800027e+00  1.21388270e+00 -4.05708743e+00\n",
      "  2.34903091e+01  1.05369515e+01  4.86428900e+00  1.65701615e+01\n",
      "  6.51047918e+00  7.40588260e+00  1.86367329e+01  1.01061685e+01\n",
      "  1.50241626e+01 -1.31007408e+01  2.06010456e+01  2.51100712e+01\n",
      "  2.37805023e+01 -4.27242946e+00  5.06932224e-01  1.12410292e+01\n",
      "  3.69605686e-01 -4.18173979e+00 -7.54071052e+00  4.07254020e+00\n",
      "  3.13841742e+00  1.97529359e+00  1.55561592e+01  1.16241188e+01\n",
      " -1.23007738e+01  5.45873909e-01  6.93063351e+00  4.45381973e+00\n",
      " -9.70505078e-01  1.50818550e+00  3.86283687e+00 -3.45006898e+00]\n"
     ]
    }
   ],
   "source": [
    "from scipy import stats as scs\n",
    "\n",
    "rng = np.random.default_rng()\n",
    "rvs1 = scs.norm.rvs(loc = 5, scale = 10,size = 500, random_state = rng)\n",
    "rvs2 = scs.norm.rvs(loc = 5, scale = 10,size = 500, random_state = rng)\n",
    "print(rvs1, rvs2)"
   ]
  },
  {
   "cell_type": "code",
   "execution_count": 119,
   "id": "a9387d82",
   "metadata": {},
   "outputs": [
    {
     "data": {
      "text/plain": [
       "array([2.0742596 , 1.1716131 , 3.32169248, 2.95949606])"
      ]
     },
     "execution_count": 119,
     "metadata": {},
     "output_type": "execute_result"
    }
   ],
   "source": [
    "np.random.chisquare(3,4)"
   ]
  },
  {
   "cell_type": "code",
   "execution_count": 141,
   "id": "79ca9b23",
   "metadata": {},
   "outputs": [
    {
     "name": "stdout",
     "output_type": "stream",
     "text": [
      "2\n",
      "5\n",
      "8\n",
      "11\n"
     ]
    }
   ],
   "source": [
    "stp = 2\n",
    "enp = 11\n",
    "step = 3\n",
    "lst = [stp]\n",
    "if 1<=stp and stp<enp and enp<=10**5 and 2<=step and step<enp and enp<=10**5:\n",
    "    n = (enp-stp)/step + 1\n",
    "    for i in range(int(n)-1):\n",
    "        a = lst[i] + step\n",
    "        lst.append(a)\n",
    "    for j in lst:\n",
    "        print(j)\n",
    "else:\n",
    "    print('Constraints are failing!')\n",
    "        "
   ]
  },
  {
   "cell_type": "code",
   "execution_count": 113,
   "id": "6bee47c5",
   "metadata": {},
   "outputs": [
    {
     "name": "stdout",
     "output_type": "stream",
     "text": [
      "0     a\n",
      "1     b\n",
      "2     c\n",
      "3     e\n",
      "4     d\n",
      "5     f\n",
      "6     g\n",
      "7     h\n",
      "8     i\n",
      "9     j\n",
      "10     k\n",
      "11     l\n",
      "12     m\n",
      "13     n\n",
      "14     o\n",
      "15     p\n",
      "16     q\n",
      "17     r\n",
      "18     s\n",
      "19     t\n",
      "20     u\n",
      "21     v\n",
      "22     w\n",
      "23     x\n",
      "24     y\n",
      "25     z\n"
     ]
    }
   ],
   "source": [
    "inp = 'abcedfghijklmnopqrstuvwxyz'\n",
    "ls = [i for i in inp]\n",
    "for (i, alphabet) in enumerate(ls, start=0):\n",
    "    print(i,'    '+alphabet)"
   ]
  }
 ],
 "metadata": {
  "kernelspec": {
   "display_name": "Python 3",
   "language": "python",
   "name": "python3"
  },
  "language_info": {
   "codemirror_mode": {
    "name": "ipython",
    "version": 3
   },
   "file_extension": ".py",
   "mimetype": "text/x-python",
   "name": "python",
   "nbconvert_exporter": "python",
   "pygments_lexer": "ipython3",
   "version": "3.8.5"
  }
 },
 "nbformat": 4,
 "nbformat_minor": 5
}
