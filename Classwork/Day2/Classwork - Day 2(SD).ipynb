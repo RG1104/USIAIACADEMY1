{
 "cells": [
  {
   "cell_type": "code",
   "execution_count": 2,
   "id": "0b746eca",
   "metadata": {},
   "outputs": [
    {
     "name": "stdout",
     "output_type": "stream",
     "text": [
      "55\n"
     ]
    }
   ],
   "source": [
    "#recurssion\n",
    "def fib(n):\n",
    "    if n==1:\n",
    "        return 1\n",
    "    elif n==2:\n",
    "        return 1\n",
    "    return fib(n-1) + fib(n-2)\n",
    "\n",
    "print(fib(10))"
   ]
  },
  {
   "cell_type": "code",
   "execution_count": 5,
   "id": "4f553a50",
   "metadata": {},
   "outputs": [],
   "source": [
    "#fib(500)?"
   ]
  },
  {
   "cell_type": "code",
   "execution_count": 8,
   "id": "22d899d8",
   "metadata": {},
   "outputs": [
    {
     "name": "stdout",
     "output_type": "stream",
     "text": [
      "[60, 50, 40, 30, 20, 10]\n"
     ]
    }
   ],
   "source": [
    "#concatinate\n",
    "a = [10, 20, 30]\n",
    "b = [40, 50, 60]\n",
    "c= a + b\n",
    "print (c[::-1])"
   ]
  },
  {
   "cell_type": "code",
   "execution_count": 9,
   "id": "c00293f0",
   "metadata": {},
   "outputs": [
    {
     "name": "stdout",
     "output_type": "stream",
     "text": [
      "10\n",
      "20\n",
      "30\n",
      "40\n",
      "50\n",
      "60\n"
     ]
    }
   ],
   "source": [
    "#loop\n",
    "for i in c:\n",
    "    print(i)\n"
   ]
  },
  {
   "cell_type": "code",
   "execution_count": 11,
   "id": "54793342",
   "metadata": {},
   "outputs": [
    {
     "name": "stdout",
     "output_type": "stream",
     "text": [
      "10\n",
      "20\n",
      "30\n",
      "40\n",
      "50\n",
      "60\n"
     ]
    }
   ],
   "source": [
    "for i in range(len(c)):\n",
    "    print (c[i])"
   ]
  },
  {
   "cell_type": "code",
   "execution_count": 12,
   "id": "63fc17f4",
   "metadata": {},
   "outputs": [
    {
     "name": "stdout",
     "output_type": "stream",
     "text": [
      "10\n",
      "20\n",
      "30\n",
      "40\n",
      "50\n",
      "60\n"
     ]
    }
   ],
   "source": [
    "i = 0\n",
    "while i <len(c):\n",
    "    print(c[i])\n",
    "    i+=1"
   ]
  },
  {
   "cell_type": "code",
   "execution_count": 25,
   "id": "2c125519",
   "metadata": {},
   "outputs": [
    {
     "name": "stdout",
     "output_type": "stream",
     "text": [
      "{1: 'Deer', 2: 'Dog', 3: [10, 20, 30, 40, 50, 60], 4: {1: 'Cat', 2: [40, 50, 60]}}\n",
      "dict_keys([1, 2, 3, 4])\n",
      "50\n"
     ]
    }
   ],
   "source": [
    "#Dictionary\n",
    "\n",
    "a ={1:'Deer',2:'Dog', 3:c, 4:{1: 'Cat', 2:b}}\n",
    "\n",
    "print(a)\n",
    "print(a.keys())\n",
    "print(a[4][2][1])"
   ]
  }
 ],
 "metadata": {
  "kernelspec": {
   "display_name": "Python 3",
   "language": "python",
   "name": "python3"
  },
  "language_info": {
   "codemirror_mode": {
    "name": "ipython",
    "version": 3
   },
   "file_extension": ".py",
   "mimetype": "text/x-python",
   "name": "python",
   "nbconvert_exporter": "python",
   "pygments_lexer": "ipython3",
   "version": "3.8.5"
  }
 },
 "nbformat": 4,
 "nbformat_minor": 5
}
