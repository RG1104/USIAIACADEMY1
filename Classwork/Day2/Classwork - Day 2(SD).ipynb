{
 "cells": [
  {
   "cell_type": "code",
   "execution_count": 2,
   "id": "0b746eca",
   "metadata": {},
   "outputs": [
    {
     "name": "stdout",
     "output_type": "stream",
     "text": [
      "55\n"
     ]
    }
   ],
   "source": [
    "#recurssion\n",
    "def fib(n):\n",
    "    if n==1:\n",
    "        return 1\n",
    "    elif n==2:\n",
    "        return 1\n",
    "    return fib(n-1) + fib(n-2)\n",
    "\n",
    "print(fib(10))"
   ]
  },
  {
   "cell_type": "code",
   "execution_count": 5,
   "id": "4f553a50",
   "metadata": {},
   "outputs": [],
   "source": [
    "#fib(500)?"
   ]
  },
  {
   "cell_type": "code",
   "execution_count": 8,
   "id": "22d899d8",
   "metadata": {},
   "outputs": [
    {
     "name": "stdout",
     "output_type": "stream",
     "text": [
      "[60, 50, 40, 30, 20, 10]\n"
     ]
    }
   ],
   "source": [
    "#concatinate\n",
    "a = [10, 20, 30]\n",
    "b = [40, 50, 60]\n",
    "c= a + b\n",
    "print (c[::-1])"
   ]
  },
  {
   "cell_type": "code",
   "execution_count": 9,
   "id": "c00293f0",
   "metadata": {},
   "outputs": [
    {
     "name": "stdout",
     "output_type": "stream",
     "text": [
      "10\n",
      "20\n",
      "30\n",
      "40\n",
      "50\n",
      "60\n"
     ]
    }
   ],
   "source": [
    "#loop\n",
    "for i in c:\n",
    "    print(i)\n"
   ]
  },
  {
   "cell_type": "code",
   "execution_count": 11,
   "id": "54793342",
   "metadata": {},
   "outputs": [
    {
     "name": "stdout",
     "output_type": "stream",
     "text": [
      "10\n",
      "20\n",
      "30\n",
      "40\n",
      "50\n",
      "60\n"
     ]
    }
   ],
   "source": [
    "for i in range(len(c)):\n",
    "    print (c[i])"
   ]
  },
  {
   "cell_type": "code",
   "execution_count": 12,
   "id": "63fc17f4",
   "metadata": {},
   "outputs": [
    {
     "name": "stdout",
     "output_type": "stream",
     "text": [
      "10\n",
      "20\n",
      "30\n",
      "40\n",
      "50\n",
      "60\n"
     ]
    }
   ],
   "source": [
    "i = 0\n",
    "while i <len(c):\n",
    "    print(c[i])\n",
    "    i+=1"
   ]
  },
  {
   "cell_type": "code",
   "execution_count": 25,
   "id": "2c125519",
   "metadata": {},
   "outputs": [
    {
     "name": "stdout",
     "output_type": "stream",
     "text": [
      "{1: 'Deer', 2: 'Dog', 3: [10, 20, 30, 40, 50, 60], 4: {1: 'Cat', 2: [40, 50, 60]}}\n",
      "dict_keys([1, 2, 3, 4])\n",
      "50\n"
     ]
    }
   ],
   "source": [
    "#Dictionary\n",
    "\n",
    "a ={1:'Deer',2:'Dog', 3:c, 4:{1: 'Cat', 2:b}}\n",
    "\n",
    "print(a)\n",
    "print(a.keys())\n",
    "print(a[4][2][1])"
   ]
  },
  {
   "cell_type": "code",
   "execution_count": 1,
   "id": "d3bb1dfb",
   "metadata": {},
   "outputs": [
    {
     "data": {
      "text/plain": [
       "array([ 90, 110, 150])"
      ]
     },
     "execution_count": 1,
     "metadata": {},
     "output_type": "execute_result"
    }
   ],
   "source": [
    "import numpy as np\n",
    "\n",
    "a = np.array([20,30,60])\n",
    "b = np.array([70,80,90])\n",
    "\n",
    "a+b"
   ]
  },
  {
   "cell_type": "code",
   "execution_count": 5,
   "id": "7dad2204",
   "metadata": {},
   "outputs": [
    {
     "data": {
      "text/plain": [
       "array([[ 30,  60, 190],\n",
       "       [140, 120, 170]])"
      ]
     },
     "execution_count": 5,
     "metadata": {},
     "output_type": "execute_result"
    }
   ],
   "source": [
    "m= np.array([[20,30,60],[70,80,90]])\n",
    "n= np.array([[10,30,130],[70,40,80]])\n",
    "m+n"
   ]
  },
  {
   "cell_type": "code",
   "execution_count": 10,
   "id": "f7026972",
   "metadata": {},
   "outputs": [
    {
     "name": "stdout",
     "output_type": "stream",
     "text": [
      "[[ 10  30 130]\n",
      " [ 70  40  80]]\n",
      "[[ 10  30]\n",
      " [130  70]\n",
      " [ 40  80]]\n",
      "[ 10  30 130  70  40  80]\n"
     ]
    }
   ],
   "source": [
    "k= np.array([10,30,130,70,40,80])\n",
    "print(np.reshape(k, [2,3]))\n",
    "print(np.reshape(k, [3,2]))\n",
    "print(k.flatten())"
   ]
  },
  {
   "cell_type": "code",
   "execution_count": 15,
   "id": "475eb643",
   "metadata": {},
   "outputs": [
    {
     "name": "stdout",
     "output_type": "stream",
     "text": [
      "[[0. 0. 0. 0. 0. 0. 0. 0. 0. 0.]\n",
      " [0. 0. 0. 0. 0. 0. 0. 0. 0. 0.]\n",
      " [0. 0. 0. 0. 0. 0. 0. 0. 0. 0.]\n",
      " [0. 0. 0. 0. 0. 0. 0. 0. 0. 0.]\n",
      " [0. 0. 0. 0. 0. 0. 0. 0. 0. 0.]\n",
      " [0. 0. 0. 0. 0. 0. 0. 0. 0. 0.]\n",
      " [0. 0. 0. 0. 0. 0. 0. 0. 0. 0.]\n",
      " [0. 0. 0. 0. 0. 0. 0. 0. 0. 0.]\n",
      " [0. 0. 0. 0. 0. 0. 0. 0. 0. 0.]\n",
      " [0. 0. 0. 0. 0. 0. 0. 0. 0. 0.]]\n",
      "[[1. 1. 1. 1. 1. 1. 1. 1. 1. 1.]\n",
      " [1. 1. 1. 1. 1. 1. 1. 1. 1. 1.]\n",
      " [1. 1. 1. 1. 1. 1. 1. 1. 1. 1.]\n",
      " [1. 1. 1. 1. 1. 1. 1. 1. 1. 1.]\n",
      " [1. 1. 1. 1. 1. 1. 1. 1. 1. 1.]\n",
      " [1. 1. 1. 1. 1. 1. 1. 1. 1. 1.]\n",
      " [1. 1. 1. 1. 1. 1. 1. 1. 1. 1.]\n",
      " [1. 1. 1. 1. 1. 1. 1. 1. 1. 1.]\n",
      " [1. 1. 1. 1. 1. 1. 1. 1. 1. 1.]\n",
      " [1. 1. 1. 1. 1. 1. 1. 1. 1. 1.]]\n"
     ]
    }
   ],
   "source": [
    "print(np.zeros([10,10]))\n",
    "print(np.ones([10,10]))"
   ]
  },
  {
   "cell_type": "code",
   "execution_count": 18,
   "id": "8edefb81",
   "metadata": {},
   "outputs": [
    {
     "name": "stdout",
     "output_type": "stream",
     "text": [
      "[[0.33432299 0.28413854 0.37693787 0.86598836 0.68099511]\n",
      " [0.02540262 0.32306081 0.08901406 0.90637729 0.3938647 ]\n",
      " [0.01121079 0.17855748 0.6627006  0.58461904 0.80510074]\n",
      " [0.72502767 0.2083735  0.32037944 0.47969135 0.93623782]\n",
      " [0.94687389 0.40015662 0.76715781 0.63472468 0.66058882]]\n"
     ]
    },
    {
     "data": {
      "text/plain": [
       "array([[19, 13, 23, 13, 16],\n",
       "       [16, 17, 12, 23, 22],\n",
       "       [15, 20, 12, 16, 21],\n",
       "       [20, 22, 19, 10, 14],\n",
       "       [12, 11, 22, 13, 19],\n",
       "       [24, 14, 16, 23, 16],\n",
       "       [11, 16, 20, 18, 16],\n",
       "       [17, 20, 15, 14, 20],\n",
       "       [16, 12, 20, 24, 24],\n",
       "       [12, 16, 16, 20, 20]])"
      ]
     },
     "execution_count": 18,
     "metadata": {},
     "output_type": "execute_result"
    }
   ],
   "source": [
    "print(np.random.rand(5,5))\n",
    "np.random.randint(10,25, size=(10,5))"
   ]
  },
  {
   "cell_type": "code",
   "execution_count": 24,
   "id": "88f423b1",
   "metadata": {},
   "outputs": [
    {
     "data": {
      "text/plain": [
       "array([ 10,  30,  40,  70,  80, 130])"
      ]
     },
     "execution_count": 24,
     "metadata": {},
     "output_type": "execute_result"
    }
   ],
   "source": [
    "k= np.array([10,30,130,70,40,80])\n",
    "np.where(k==30)\n",
    "np.sort(k)"
   ]
  },
  {
   "cell_type": "code",
   "execution_count": 28,
   "id": "e8fe2985",
   "metadata": {},
   "outputs": [
    {
     "name": "stdout",
     "output_type": "stream",
     "text": [
      "[ 10  30 130  70  40  80  10  30  40  70  80 130]\n",
      "[[ 10  30 130  70  40  80]\n",
      " [ 10  30  40  70  80 130]]\n"
     ]
    }
   ],
   "source": [
    "print(np.hstack((k,np.sort(k))))\n",
    "print(np.vstack((k,np.sort(k))))"
   ]
  },
  {
   "cell_type": "code",
   "execution_count": 35,
   "id": "7004eac4",
   "metadata": {},
   "outputs": [
    {
     "data": {
      "text/plain": [
       "array([[ 0,  0,  0,  0,  0,  0,  0],\n",
       "       [ 0, 18, 21, 13, 23, 12,  0],\n",
       "       [ 0, 24, 13, 22, 20, 21,  0],\n",
       "       [ 0, 22, 14, 17, 19, 11,  0],\n",
       "       [ 0, 18, 10, 11, 18, 24,  0],\n",
       "       [ 0, 19, 20, 12, 19, 20,  0],\n",
       "       [ 0, 20, 16, 18, 14, 13,  0],\n",
       "       [ 0, 21, 11, 17, 23, 14,  0],\n",
       "       [ 0, 17, 21, 10, 17, 22,  0],\n",
       "       [ 0, 22, 13, 22, 23, 19,  0],\n",
       "       [ 0, 11, 10, 17, 24, 10,  0]])"
      ]
     },
     "execution_count": 35,
     "metadata": {},
     "output_type": "execute_result"
    }
   ],
   "source": [
    "#layer of zeroes, used for maintaining the dimensions\n",
    "np.pad(np.random.randint(10,25, size=(10,5)),([1,0],[1,1]))"
   ]
  },
  {
   "cell_type": "code",
   "execution_count": 40,
   "id": "16d56241",
   "metadata": {},
   "outputs": [
    {
     "data": {
      "text/plain": [
       "array([ 10.5       , -25.07142857])"
      ]
     },
     "execution_count": 40,
     "metadata": {},
     "output_type": "execute_result"
    }
   ],
   "source": [
    "#Regression, using numpy functions\n",
    "x= np.array([2,3,4,5,6,7,8])\n",
    "y= np.array([4,6,8,25,36,49,64])\n",
    "\n",
    "np.polyfit(x,y,1)"
   ]
  }
 ],
 "metadata": {
  "kernelspec": {
   "display_name": "Python 3",
   "language": "python",
   "name": "python3"
  },
  "language_info": {
   "codemirror_mode": {
    "name": "ipython",
    "version": 3
   },
   "file_extension": ".py",
   "mimetype": "text/x-python",
   "name": "python",
   "nbconvert_exporter": "python",
   "pygments_lexer": "ipython3",
   "version": "3.8.5"
  }
 },
 "nbformat": 4,
 "nbformat_minor": 5
}
