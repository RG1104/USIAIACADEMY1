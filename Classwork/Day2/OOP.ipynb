{
 "cells": [
  {
   "cell_type": "code",
   "execution_count": 6,
   "id": "99f1b150",
   "metadata": {},
   "outputs": [],
   "source": [
    "class Deloitte:\n",
    "    pass"
   ]
  },
  {
   "cell_type": "code",
   "execution_count": 2,
   "id": "6214183c",
   "metadata": {},
   "outputs": [
    {
     "data": {
      "text/plain": [
       "<__main__.Deloitte at 0x24be0da2cd0>"
      ]
     },
     "execution_count": 2,
     "metadata": {},
     "output_type": "execute_result"
    }
   ],
   "source": [
    "delins = Deloitte()\n",
    "delins"
   ]
  },
  {
   "cell_type": "code",
   "execution_count": 3,
   "id": "3bb83fba",
   "metadata": {},
   "outputs": [],
   "source": [
    "delins.name = 'Shubhaditya'\n",
    "delins.occupation = 'V&A Specialist'\n",
    "delins.batch = 'I'"
   ]
  },
  {
   "cell_type": "code",
   "execution_count": 5,
   "id": "59ad154a",
   "metadata": {},
   "outputs": [
    {
     "name": "stdout",
     "output_type": "stream",
     "text": [
      "<__main__.Deloitte object at 0x0000024BE0DA2CD0>\n"
     ]
    }
   ],
   "source": [
    "print(delins)"
   ]
  },
  {
   "cell_type": "code",
   "execution_count": 7,
   "id": "62a07af7",
   "metadata": {},
   "outputs": [],
   "source": [
    "def Deloitte():\n",
    "    pass"
   ]
  },
  {
   "cell_type": "code",
   "execution_count": 11,
   "id": "e176f365",
   "metadata": {},
   "outputs": [],
   "source": [
    "class Deloitte:\n",
    "    \n",
    "    def f(self):\n",
    "        a = 10\n",
    "        return a\n",
    "\n",
    "delins = Deloitte()"
   ]
  },
  {
   "cell_type": "code",
   "execution_count": 12,
   "id": "d5e85376",
   "metadata": {},
   "outputs": [
    {
     "name": "stdout",
     "output_type": "stream",
     "text": [
      "<bound method Deloitte.f of <__main__.Deloitte object at 0x0000024BE0DE5490>>\n"
     ]
    }
   ],
   "source": [
    "print(delins.f)"
   ]
  },
  {
   "cell_type": "code",
   "execution_count": 13,
   "id": "0d97dfe7",
   "metadata": {},
   "outputs": [
    {
     "name": "stdout",
     "output_type": "stream",
     "text": [
      "30\n"
     ]
    }
   ],
   "source": [
    "class Deloitte:\n",
    "    \n",
    "    def f(self, a, b):\n",
    "        c = a+b \n",
    "        return c\n",
    "\n",
    "delins = Deloitte()\n",
    "print(delins.f(10,20))"
   ]
  },
  {
   "cell_type": "code",
   "execution_count": 17,
   "id": "76948ec9",
   "metadata": {},
   "outputs": [],
   "source": [
    "class Deloitte:\n",
    "    def setvalues(self, a, b):\n",
    "        self.a = a\n",
    "        self.b = b\n",
    "    def add(self):\n",
    "        return self.a + self.b\n",
    "\n",
    "delins = Deloitte()\n"
   ]
  },
  {
   "cell_type": "code",
   "execution_count": 18,
   "id": "137847d3",
   "metadata": {},
   "outputs": [
    {
     "name": "stdout",
     "output_type": "stream",
     "text": [
      "30\n"
     ]
    }
   ],
   "source": [
    "delins.setvalues(10,20)\n",
    "print(delins.add())"
   ]
  },
  {
   "cell_type": "code",
   "execution_count": 23,
   "id": "7948f3f3",
   "metadata": {},
   "outputs": [
    {
     "name": "stdout",
     "output_type": "stream",
     "text": [
      "10\n"
     ]
    }
   ],
   "source": [
    "#Constructor\n",
    "class Deloitte:\n",
    "    def __init__(self, x):\n",
    "        self.a = x\n",
    "\n",
    "    def val(self):\n",
    "        return self.a\n",
    "\n",
    "delins5 = Deloitte(10)\n",
    "print(delins5.val())"
   ]
  },
  {
   "cell_type": "code",
   "execution_count": 27,
   "id": "0bdb78a0",
   "metadata": {},
   "outputs": [
    {
     "name": "stdout",
     "output_type": "stream",
     "text": [
      "[10]\n"
     ]
    }
   ],
   "source": [
    "class Deloitte:\n",
    "    def __init__(self):\n",
    "        self.li = []\n",
    "        \n",
    "    def add(self, x):\n",
    "        return self.li.append(x)\n",
    "\n",
    "    def val(self):\n",
    "        return self.li\n",
    "    \n",
    "delins6 = Deloitte()\n",
    "delins6.add(10)\n",
    "print(delins6.val())"
   ]
  },
  {
   "cell_type": "code",
   "execution_count": 28,
   "id": "c0a7f98b",
   "metadata": {},
   "outputs": [
    {
     "name": "stdout",
     "output_type": "stream",
     "text": [
      "[10, 20]\n"
     ]
    }
   ],
   "source": [
    "delins6.add(20)\n",
    "print(delins6.val())"
   ]
  },
  {
   "cell_type": "code",
   "execution_count": 31,
   "id": "11790a9e",
   "metadata": {},
   "outputs": [],
   "source": [
    "class Deloitte:\n",
    "    ptr = ''\n",
    "    li = []\n",
    "    def add(self, x):\n",
    "        if self.ptr == '':\n",
    "            self.li.append(x)\n",
    "        self.ptr = 'added'\n",
    "    def val(self):\n",
    "        return self.li"
   ]
  },
  {
   "cell_type": "code",
   "execution_count": 33,
   "id": "c6357348",
   "metadata": {},
   "outputs": [
    {
     "name": "stdout",
     "output_type": "stream",
     "text": [
      "[20]\n"
     ]
    }
   ],
   "source": [
    "delins7 = Deloitte()\n",
    "delins7.add(20)\n",
    "print(delins7.val())"
   ]
  },
  {
   "cell_type": "code",
   "execution_count": 34,
   "id": "d3d5f1f5",
   "metadata": {},
   "outputs": [
    {
     "name": "stdout",
     "output_type": "stream",
     "text": [
      "[20]\n"
     ]
    }
   ],
   "source": [
    "delins7.add(30)\n",
    "print(delins7.val())"
   ]
  },
  {
   "cell_type": "code",
   "execution_count": 35,
   "id": "e8d6d5ae",
   "metadata": {},
   "outputs": [],
   "source": [
    "class Deloitte:\n",
    "    ptr = ''\n",
    "    def ini(self):\n",
    "        if self.ptr == '':\n",
    "            self.ptr = Deloitte()\n",
    "        else:\n",
    "            print('Already Initialized')\n",
    "        return self.ptr"
   ]
  },
  {
   "cell_type": "code",
   "execution_count": 38,
   "id": "146a7f75",
   "metadata": {},
   "outputs": [
    {
     "name": "stdout",
     "output_type": "stream",
     "text": [
      "<__main__.Deloitte object at 0x0000024BE1CC3AF0>\n"
     ]
    }
   ],
   "source": [
    "delins8 = Deloitte()\n",
    "print(delins8.ini())"
   ]
  },
  {
   "cell_type": "code",
   "execution_count": 39,
   "id": "9e8c4b8b",
   "metadata": {},
   "outputs": [
    {
     "name": "stdout",
     "output_type": "stream",
     "text": [
      "Already Initialized\n",
      "<__main__.Deloitte object at 0x0000024BE1CC3AF0>\n"
     ]
    }
   ],
   "source": [
    "print(delins8.ini())"
   ]
  },
  {
   "cell_type": "code",
   "execution_count": 40,
   "id": "a37271b3",
   "metadata": {},
   "outputs": [],
   "source": [
    "class Deloitte:\n",
    "    temp = ''\n",
    "    ptr = ''\n",
    "    def ini(self):\n",
    "        if self.temp == '':\n",
    "            self.temp = 'initialized'\n",
    "            self.ptr = Deloitte()\n",
    "        else:\n",
    "            print('Already initialized')\n",
    "        return self.ptr"
   ]
  },
  {
   "cell_type": "code",
   "execution_count": 41,
   "id": "994e93a3",
   "metadata": {},
   "outputs": [
    {
     "name": "stdout",
     "output_type": "stream",
     "text": [
      "<__main__.Deloitte object at 0x0000024BE1C0D0A0>\n"
     ]
    }
   ],
   "source": [
    "delins9 = Deloitte()\n",
    "print(delins9.ini())"
   ]
  },
  {
   "cell_type": "code",
   "execution_count": 42,
   "id": "e7dce99c",
   "metadata": {},
   "outputs": [
    {
     "name": "stdout",
     "output_type": "stream",
     "text": [
      "Already initialized\n",
      "<__main__.Deloitte object at 0x0000024BE1C0D0A0>\n"
     ]
    }
   ],
   "source": [
    "print(delins9.ini())"
   ]
  },
  {
   "cell_type": "code",
   "execution_count": 45,
   "id": "a9d621c6",
   "metadata": {},
   "outputs": [
    {
     "name": "stdout",
     "output_type": "stream",
     "text": [
      "['Afghanistan', 'Albania', 'Algeria', 'Andorra', 'Angola', 'Antigua and Barbuda', 'Argentina', 'Armenia', 'Australia', 'Austria', 'Azerbaijan', 'The Bahamas', 'Bahrain', 'Bangladesh', 'Barbados', 'Belarus', 'Belgium', 'Belize', 'Benin', 'Bhutan', 'Bolivia', 'Bosnia and Herzegovina', 'Botswana', 'Brazil', 'Brunei', 'Bulgaria', 'Burkina Faso', 'Burundi', 'Cambodia', 'Cameroon', 'Canada', 'Cape Verde', 'Central African Republic', 'Chad', 'Chile', 'China', 'Colombia', 'Comoros', 'Congo, Republic of the', 'Congo, Democratic Republic of the', 'Costa Rica', 'Cote dIvoire', 'Croatia', 'Cuba', 'Cyprus', 'Czech Republic', 'Denmark', 'Djibouti', 'Dominica', 'Dominican Republic', 'East Timor (Timor-Leste)', 'Ecuador', 'Egypt', 'El Salvador', 'Equatorial Guinea', 'Eritrea', 'Estonia', 'Ethiopia', 'Fiji', 'Finland', 'France', 'Gabon', 'The Gambia', 'Georgia', 'Germany', 'Ghana', 'Greece', 'Grenada', 'Guatemala', 'Guinea', 'Guinea-Bissau', 'Guyana', 'Haiti', 'Honduras', 'Hungary', 'Iceland', 'India', 'Indonesia', 'Iran', 'Iraq', 'Ireland', 'Israel', 'Italy', 'Jamaica', 'Japan', 'Jordan', 'Kazakhstan', 'Kenya', 'Kiribati', 'Korea, North', 'Korea, South', 'Kosovo', 'Kuwait', 'Kyrgyzstan', 'Laos', 'Latvia', 'Lebanon', 'Lesotho', 'Liberia', 'Libya', 'Liechtenstein', 'Lithuania', 'Luxembourg', 'Macedonia', 'Madagascar', 'Malawi', 'Malaysia', 'Maldives', 'Mali', 'Malta', 'Marshall Islands', 'Mauritania', 'Mauritius', 'Mexico', 'Micronesia, Federated States of', 'Moldova', 'Monaco', 'Mongolia', 'Montenegro', 'Morocco', 'Mozambique', 'Myanmar (Burma)', 'Namibia', 'Nauru', 'Nepal', 'Netherlands', 'New Zealand', 'Nicaragua', 'Niger', 'Nigeria', 'Norway', 'Oman', 'Pakistan', 'Palau', 'Panama', 'Papua New Guinea', 'Paraguay', 'Peru', 'Philippines', 'Poland', 'Portugal', 'Qatar', 'Romania', 'Russia', 'Rwanda', 'Saint Kitts and Nevis', 'Saint Lucia', 'Saint Vincent and the Grenadines', 'Samoa', 'San Marino', 'Sao Tome and Principe', 'Saudi Arabia', 'Senegal', 'Serbia', 'Seychelles', 'Sierra Leone', 'Singapore', 'Slovakia', 'Slovenia', 'Solomon Islands', 'Somalia', 'South Africa', 'South Sudan', 'Spain', 'Sri Lanka', 'Sudan', 'Suriname', 'Swaziland', 'Sweden', 'Switzerland', 'Syria', 'Taiwan', 'Tajikistan', 'Tanzania', 'Thailand', 'Togo', 'Tonga', 'Trinidad and Tobago', 'Tunisia', 'Turkey', 'Turkmenistan', 'Tuvalu', 'Uganda', 'Ukraine', 'United Arab Emirates', 'United Kingdom', 'United States of America', 'Uruguay', 'Uzbekistan', 'Vanuatu', 'Vatican City (Holy See)', 'Venezuela', 'Vietnam', 'Yemen', 'Zambia', 'Zimbabwe']\n"
     ]
    }
   ],
   "source": [
    "#Class test\n",
    "Countries = [\"Afghanistan\", \"Albania\", \"Algeria\", \"Andorra\", \"Angola\", \"Antigua and Barbuda\", \"Argentina\", \"Armenia\", \"Australia\", \"Austria\", \"Azerbaijan\", \"The Bahamas\", \"Bahrain\", \"Bangladesh\", \"Barbados\", \"Belarus\", \"Belgium\", \"Belize\", \"Benin\", \"Bhutan\", \"Bolivia\", \"Bosnia and Herzegovina\", \"Botswana\", \"Brazil\", \"Brunei\", \"Bulgaria\", \"Burkina Faso\", \"Burundi\", \"Cambodia\", \"Cameroon\", \"Canada\", \"Cape Verde\", \"Central African Republic\", \"Chad\", \"Chile\", \"China\", \"Colombia\", \"Comoros\", \"Congo, Republic of the\", \"Congo, Democratic Republic of the\", \"Costa Rica\", \"Cote dIvoire\", \"Croatia\", \"Cuba\", \"Cyprus\", \"Czech Republic\", \"Denmark\", \"Djibouti\", \"Dominica\", \"Dominican Republic\", \"East Timor (Timor-Leste)\", \"Ecuador\", \"Egypt\", \"El Salvador\", \"Equatorial Guinea\", \"Eritrea\", \"Estonia\", \"Ethiopia\", \"Fiji\", \"Finland\", \"France\", \"Gabon\", \"The Gambia\", \"Georgia\", \"Germany\", \"Ghana\", \"Greece\", \"Grenada\", \"Guatemala\", \"Guinea\", \"Guinea-Bissau\", \"Guyana\", \"Haiti\", \"Honduras\", \"Hungary\", \"Iceland\", \"India\", \"Indonesia\", \"Iran\", \"Iraq\", \"Ireland\", \"Israel\", \"Italy\", \"Jamaica\", \"Japan\", \"Jordan\", \"Kazakhstan\", \"Kenya\", \"Kiribati\", \"Korea, North\", \"Korea, South\", \"Kosovo\", \"Kuwait\", \"Kyrgyzstan\", \"Laos\", \"Latvia\", \"Lebanon\", \"Lesotho\", \"Liberia\", \"Libya\", \"Liechtenstein\", \"Lithuania\", \"Luxembourg\", \"Macedonia\", \"Madagascar\", \"Malawi\", \"Malaysia\", \"Maldives\", \"Mali\", \"Malta\", \"Marshall Islands\", \"Mauritania\", \"Mauritius\", \"Mexico\", \"Micronesia, Federated States of\", \"Moldova\", \"Monaco\", \"Mongolia\", \"Montenegro\", \"Morocco\", \"Mozambique\", \"Myanmar (Burma)\", \"Namibia\", \"Nauru\", \"Nepal\", \"Netherlands\", \"New Zealand\", \"Nicaragua\", \"Niger\", \"Nigeria\", \"Norway\", \"Oman\", \"Pakistan\", \"Palau\", \"Panama\", \"Papua New Guinea\", \"Paraguay\", \"Peru\", \"Philippines\", \"Poland\", \"Portugal\", \"Qatar\", \"Romania\", \"Russia\", \"Rwanda\", \"Saint Kitts and Nevis\", \"Saint Lucia\", \"Saint Vincent and the Grenadines\", \"Samoa\", \"San Marino\", \"Sao Tome and Principe\", \"Saudi Arabia\", \"Senegal\", \"Serbia\", \"Seychelles\", \"Sierra Leone\", \"Singapore\", \"Slovakia\", \"Slovenia\", \"Solomon Islands\", \"Somalia\", \"South Africa\", \"South Sudan\", \"Spain\", \"Sri Lanka\", \"Sudan\", \"Suriname\", \"Swaziland\", \"Sweden\", \"Switzerland\", \"Syria\", \"Taiwan\", \"Tajikistan\", \"Tanzania\", \"Thailand\", \"Togo\", \"Tonga\", \"Trinidad and Tobago\", \"Tunisia\", \"Turkey\", \"Turkmenistan\", \"Tuvalu\", \"Uganda\", \"Ukraine\", \"United Arab Emirates\", \"United Kingdom\", \"United States of America\", \"Uruguay\", \"Uzbekistan\", \"Vanuatu\", \"Vatican City (Holy See)\", \"Venezuela\", \"Vietnam\", \"Yemen\", \"Zambia\", \"Zimbabwe\"]\n",
    "\n",
    "print(Countries)"
   ]
  },
  {
   "cell_type": "code",
   "execution_count": 60,
   "id": "d64250b5",
   "metadata": {},
   "outputs": [],
   "source": [
    "def search(List,string):\n",
    "    IN = []\n",
    "    for i in List:\n",
    "        if i[:2]==(string[0].upper()+string[1].lower()):\n",
    "            IN.append(i)\n",
    "        elif i[:2]==(string[0].lower()+string[1].lower()):\n",
    "            IN.append(i)\n",
    "    return print(IN)\n",
    "    "
   ]
  },
  {
   "cell_type": "code",
   "execution_count": 63,
   "id": "83b85511",
   "metadata": {},
   "outputs": [
    {
     "name": "stdout",
     "output_type": "stream",
     "text": [
      "['Andorra', 'Angola', 'Antigua and Barbuda']\n"
     ]
    }
   ],
   "source": [
    "search(Countries,'An')"
   ]
  },
  {
   "cell_type": "code",
   "execution_count": null,
   "id": "d8177902",
   "metadata": {},
   "outputs": [],
   "source": []
  }
 ],
 "metadata": {
  "kernelspec": {
   "display_name": "Python 3",
   "language": "python",
   "name": "python3"
  },
  "language_info": {
   "codemirror_mode": {
    "name": "ipython",
    "version": 3
   },
   "file_extension": ".py",
   "mimetype": "text/x-python",
   "name": "python",
   "nbconvert_exporter": "python",
   "pygments_lexer": "ipython3",
   "version": "3.8.5"
  }
 },
 "nbformat": 4,
 "nbformat_minor": 5
}
