{
 "cells": [
  {
   "cell_type": "code",
   "execution_count": 6,
   "id": "22e6f2c2",
   "metadata": {},
   "outputs": [],
   "source": [
    "class Deloitte:\n",
    "    pass"
   ]
  },
  {
   "cell_type": "code",
   "execution_count": 2,
   "id": "2b2c9a7d",
   "metadata": {},
   "outputs": [
    {
     "data": {
      "text/plain": [
       "<__main__.Deloitte at 0x24be0da2cd0>"
      ]
     },
     "execution_count": 2,
     "metadata": {},
     "output_type": "execute_result"
    }
   ],
   "source": [
    "delins = Deloitte()\n",
    "delins"
   ]
  },
  {
   "cell_type": "code",
   "execution_count": 3,
   "id": "30b00e2b",
   "metadata": {},
   "outputs": [],
   "source": [
    "delins.name = 'Shubhaditya'\n",
    "delins.occupation = 'V&A Specialist'\n",
    "delins.batch = 'I'"
   ]
  },
  {
   "cell_type": "code",
   "execution_count": 5,
   "id": "63bd13f2",
   "metadata": {},
   "outputs": [
    {
     "name": "stdout",
     "output_type": "stream",
     "text": [
      "<__main__.Deloitte object at 0x0000024BE0DA2CD0>\n"
     ]
    }
   ],
   "source": [
    "print(delins)"
   ]
  },
  {
   "cell_type": "code",
   "execution_count": 7,
   "id": "91d09c62",
   "metadata": {},
   "outputs": [],
   "source": [
    "def Deloitte():\n",
    "    pass"
   ]
  },
  {
   "cell_type": "code",
   "execution_count": 11,
   "id": "4f60afb7",
   "metadata": {},
   "outputs": [],
   "source": [
    "class Deloitte:\n",
    "    \n",
    "    def f(self):\n",
    "        a = 10\n",
    "        return a\n",
    "\n",
    "delins = Deloitte()"
   ]
  },
  {
   "cell_type": "code",
   "execution_count": 12,
   "id": "12f804fc",
   "metadata": {},
   "outputs": [
    {
     "name": "stdout",
     "output_type": "stream",
     "text": [
      "<bound method Deloitte.f of <__main__.Deloitte object at 0x0000024BE0DE5490>>\n"
     ]
    }
   ],
   "source": [
    "print(delins.f)"
   ]
  },
  {
   "cell_type": "code",
   "execution_count": 13,
   "id": "569d0b8b",
   "metadata": {},
   "outputs": [
    {
     "name": "stdout",
     "output_type": "stream",
     "text": [
      "30\n"
     ]
    }
   ],
   "source": [
    "class Deloitte:\n",
    "    \n",
    "    def f(self, a, b):\n",
    "        c = a+b \n",
    "        return c\n",
    "\n",
    "delins = Deloitte()\n",
    "print(delins.f(10,20))"
   ]
  },
  {
   "cell_type": "code",
   "execution_count": 17,
   "id": "c38d1d0f",
   "metadata": {},
   "outputs": [],
   "source": [
    "class Deloitte:\n",
    "    def setvalues(self, a, b):\n",
    "        self.a = a\n",
    "        self.b = b\n",
    "    def add(self):\n",
    "        return self.a + self.b\n",
    "\n",
    "delins = Deloitte()\n"
   ]
  },
  {
   "cell_type": "code",
   "execution_count": 18,
   "id": "eb01fde7",
   "metadata": {},
   "outputs": [
    {
     "name": "stdout",
     "output_type": "stream",
     "text": [
      "30\n"
     ]
    }
   ],
   "source": [
    "delins.setvalues(10,20)\n",
    "print(delins.add())"
   ]
  },
  {
   "cell_type": "code",
   "execution_count": 23,
   "id": "c74f0ee1",
   "metadata": {},
   "outputs": [
    {
     "name": "stdout",
     "output_type": "stream",
     "text": [
      "10\n"
     ]
    }
   ],
   "source": [
    "#Constructor\n",
    "class Deloitte:\n",
    "    def __init__(self, x):\n",
    "        self.a = x\n",
    "\n",
    "    def val(self):\n",
    "        return self.a\n",
    "\n",
    "delins5 = Deloitte(10)\n",
    "print(delins5.val())"
   ]
  },
  {
   "cell_type": "code",
   "execution_count": 27,
   "id": "211de2cd",
   "metadata": {},
   "outputs": [
    {
     "name": "stdout",
     "output_type": "stream",
     "text": [
      "[10]\n"
     ]
    }
   ],
   "source": [
    "class Deloitte:\n",
    "    def __init__(self):\n",
    "        self.li = []\n",
    "        \n",
    "    def add(self, x):\n",
    "        return self.li.append(x)\n",
    "\n",
    "    def val(self):\n",
    "        return self.li\n",
    "    \n",
    "delins6 = Deloitte()\n",
    "delins6.add(10)\n",
    "print(delins6.val())"
   ]
  },
  {
   "cell_type": "code",
   "execution_count": 28,
   "id": "48ed355e",
   "metadata": {},
   "outputs": [
    {
     "name": "stdout",
     "output_type": "stream",
     "text": [
      "[10, 20]\n"
     ]
    }
   ],
   "source": [
    "delins6.add(20)\n",
    "print(delins6.val())"
   ]
  },
  {
   "cell_type": "code",
   "execution_count": 31,
   "id": "bbbed1e6",
   "metadata": {},
   "outputs": [],
   "source": [
    "class Deloitte:\n",
    "    ptr = ''\n",
    "    li = []\n",
    "    def add(self, x):\n",
    "        if self.ptr == '':\n",
    "            self.li.append(x)\n",
    "        self.ptr = 'added'\n",
    "    def val(self):\n",
    "        return self.li"
   ]
  },
  {
   "cell_type": "code",
   "execution_count": 33,
   "id": "fa783bd7",
   "metadata": {},
   "outputs": [
    {
     "name": "stdout",
     "output_type": "stream",
     "text": [
      "[20]\n"
     ]
    }
   ],
   "source": [
    "delins7 = Deloitte()\n",
    "delins7.add(20)\n",
    "print(delins7.val())"
   ]
  },
  {
   "cell_type": "code",
   "execution_count": 34,
   "id": "23116118",
   "metadata": {},
   "outputs": [
    {
     "name": "stdout",
     "output_type": "stream",
     "text": [
      "[20]\n"
     ]
    }
   ],
   "source": [
    "delins7.add(30)\n",
    "print(delins7.val())"
   ]
  },
  {
   "cell_type": "code",
   "execution_count": 35,
   "id": "b457c7d4",
   "metadata": {},
   "outputs": [],
   "source": [
    "class Deloitte:\n",
    "    ptr = ''\n",
    "    def ini(self):\n",
    "        if self.ptr == '':\n",
    "            self.ptr = Deloitte()\n",
    "        else:\n",
    "            print('Already Initialized')\n",
    "        return self.ptr"
   ]
  },
  {
   "cell_type": "code",
   "execution_count": 38,
   "id": "8ab7b895",
   "metadata": {},
   "outputs": [
    {
     "name": "stdout",
     "output_type": "stream",
     "text": [
      "<__main__.Deloitte object at 0x0000024BE1CC3AF0>\n"
     ]
    }
   ],
   "source": [
    "delins8 = Deloitte()\n",
    "print(delins8.ini())"
   ]
  },
  {
   "cell_type": "code",
   "execution_count": 39,
   "id": "8571d40c",
   "metadata": {},
   "outputs": [
    {
     "name": "stdout",
     "output_type": "stream",
     "text": [
      "Already Initialized\n",
      "<__main__.Deloitte object at 0x0000024BE1CC3AF0>\n"
     ]
    }
   ],
   "source": [
    "print(delins8.ini())"
   ]
  },
  {
   "cell_type": "code",
   "execution_count": 40,
   "id": "47f81a57",
   "metadata": {},
   "outputs": [],
   "source": [
    "class Deloitte:\n",
    "    temp = ''\n",
    "    ptr = ''\n",
    "    def ini(self):\n",
    "        if self.temp == '':\n",
    "            self.temp = 'initialized'\n",
    "            self.ptr = Deloitte()\n",
    "        else:\n",
    "            print('Already initialized')\n",
    "        return self.ptr"
   ]
  },
  {
   "cell_type": "code",
   "execution_count": 41,
   "id": "e05b1754",
   "metadata": {},
   "outputs": [
    {
     "name": "stdout",
     "output_type": "stream",
     "text": [
      "<__main__.Deloitte object at 0x0000024BE1C0D0A0>\n"
     ]
    }
   ],
   "source": [
    "delins9 = Deloitte()\n",
    "print(delins9.ini())"
   ]
  },
  {
   "cell_type": "code",
   "execution_count": 42,
   "id": "3edafb1c",
   "metadata": {},
   "outputs": [
    {
     "name": "stdout",
     "output_type": "stream",
     "text": [
      "Already initialized\n",
      "<__main__.Deloitte object at 0x0000024BE1C0D0A0>\n"
     ]
    }
   ],
   "source": [
    "print(delins9.ini())"
   ]
  },
  {
   "cell_type": "code",
   "execution_count": 45,
   "id": "3f0db96e",
   "metadata": {},
   "outputs": [
    {
     "name": "stdout",
     "output_type": "stream",
     "text": [
      "['Afghanistan', 'Albania', 'Algeria', 'Andorra', 'Angola', 'Antigua and Barbuda', 'Argentina', 'Armenia', 'Australia', 'Austria', 'Azerbaijan', 'The Bahamas', 'Bahrain', 'Bangladesh', 'Barbados', 'Belarus', 'Belgium', 'Belize', 'Benin', 'Bhutan', 'Bolivia', 'Bosnia and Herzegovina', 'Botswana', 'Brazil', 'Brunei', 'Bulgaria', 'Burkina Faso', 'Burundi', 'Cambodia', 'Cameroon', 'Canada', 'Cape Verde', 'Central African Republic', 'Chad', 'Chile', 'China', 'Colombia', 'Comoros', 'Congo, Republic of the', 'Congo, Democratic Republic of the', 'Costa Rica', 'Cote dIvoire', 'Croatia', 'Cuba', 'Cyprus', 'Czech Republic', 'Denmark', 'Djibouti', 'Dominica', 'Dominican Republic', 'East Timor (Timor-Leste)', 'Ecuador', 'Egypt', 'El Salvador', 'Equatorial Guinea', 'Eritrea', 'Estonia', 'Ethiopia', 'Fiji', 'Finland', 'France', 'Gabon', 'The Gambia', 'Georgia', 'Germany', 'Ghana', 'Greece', 'Grenada', 'Guatemala', 'Guinea', 'Guinea-Bissau', 'Guyana', 'Haiti', 'Honduras', 'Hungary', 'Iceland', 'India', 'Indonesia', 'Iran', 'Iraq', 'Ireland', 'Israel', 'Italy', 'Jamaica', 'Japan', 'Jordan', 'Kazakhstan', 'Kenya', 'Kiribati', 'Korea, North', 'Korea, South', 'Kosovo', 'Kuwait', 'Kyrgyzstan', 'Laos', 'Latvia', 'Lebanon', 'Lesotho', 'Liberia', 'Libya', 'Liechtenstein', 'Lithuania', 'Luxembourg', 'Macedonia', 'Madagascar', 'Malawi', 'Malaysia', 'Maldives', 'Mali', 'Malta', 'Marshall Islands', 'Mauritania', 'Mauritius', 'Mexico', 'Micronesia, Federated States of', 'Moldova', 'Monaco', 'Mongolia', 'Montenegro', 'Morocco', 'Mozambique', 'Myanmar (Burma)', 'Namibia', 'Nauru', 'Nepal', 'Netherlands', 'New Zealand', 'Nicaragua', 'Niger', 'Nigeria', 'Norway', 'Oman', 'Pakistan', 'Palau', 'Panama', 'Papua New Guinea', 'Paraguay', 'Peru', 'Philippines', 'Poland', 'Portugal', 'Qatar', 'Romania', 'Russia', 'Rwanda', 'Saint Kitts and Nevis', 'Saint Lucia', 'Saint Vincent and the Grenadines', 'Samoa', 'San Marino', 'Sao Tome and Principe', 'Saudi Arabia', 'Senegal', 'Serbia', 'Seychelles', 'Sierra Leone', 'Singapore', 'Slovakia', 'Slovenia', 'Solomon Islands', 'Somalia', 'South Africa', 'South Sudan', 'Spain', 'Sri Lanka', 'Sudan', 'Suriname', 'Swaziland', 'Sweden', 'Switzerland', 'Syria', 'Taiwan', 'Tajikistan', 'Tanzania', 'Thailand', 'Togo', 'Tonga', 'Trinidad and Tobago', 'Tunisia', 'Turkey', 'Turkmenistan', 'Tuvalu', 'Uganda', 'Ukraine', 'United Arab Emirates', 'United Kingdom', 'United States of America', 'Uruguay', 'Uzbekistan', 'Vanuatu', 'Vatican City (Holy See)', 'Venezuela', 'Vietnam', 'Yemen', 'Zambia', 'Zimbabwe']\n"
     ]
    }
   ],
   "source": [
    "#Class test\n",
    "Countries = [\"Afghanistan\", \"Albania\", \"Algeria\", \"Andorra\", \"Angola\", \"Antigua and Barbuda\", \"Argentina\", \"Armenia\", \"Australia\", \"Austria\", \"Azerbaijan\", \"The Bahamas\", \"Bahrain\", \"Bangladesh\", \"Barbados\", \"Belarus\", \"Belgium\", \"Belize\", \"Benin\", \"Bhutan\", \"Bolivia\", \"Bosnia and Herzegovina\", \"Botswana\", \"Brazil\", \"Brunei\", \"Bulgaria\", \"Burkina Faso\", \"Burundi\", \"Cambodia\", \"Cameroon\", \"Canada\", \"Cape Verde\", \"Central African Republic\", \"Chad\", \"Chile\", \"China\", \"Colombia\", \"Comoros\", \"Congo, Republic of the\", \"Congo, Democratic Republic of the\", \"Costa Rica\", \"Cote dIvoire\", \"Croatia\", \"Cuba\", \"Cyprus\", \"Czech Republic\", \"Denmark\", \"Djibouti\", \"Dominica\", \"Dominican Republic\", \"East Timor (Timor-Leste)\", \"Ecuador\", \"Egypt\", \"El Salvador\", \"Equatorial Guinea\", \"Eritrea\", \"Estonia\", \"Ethiopia\", \"Fiji\", \"Finland\", \"France\", \"Gabon\", \"The Gambia\", \"Georgia\", \"Germany\", \"Ghana\", \"Greece\", \"Grenada\", \"Guatemala\", \"Guinea\", \"Guinea-Bissau\", \"Guyana\", \"Haiti\", \"Honduras\", \"Hungary\", \"Iceland\", \"India\", \"Indonesia\", \"Iran\", \"Iraq\", \"Ireland\", \"Israel\", \"Italy\", \"Jamaica\", \"Japan\", \"Jordan\", \"Kazakhstan\", \"Kenya\", \"Kiribati\", \"Korea, North\", \"Korea, South\", \"Kosovo\", \"Kuwait\", \"Kyrgyzstan\", \"Laos\", \"Latvia\", \"Lebanon\", \"Lesotho\", \"Liberia\", \"Libya\", \"Liechtenstein\", \"Lithuania\", \"Luxembourg\", \"Macedonia\", \"Madagascar\", \"Malawi\", \"Malaysia\", \"Maldives\", \"Mali\", \"Malta\", \"Marshall Islands\", \"Mauritania\", \"Mauritius\", \"Mexico\", \"Micronesia, Federated States of\", \"Moldova\", \"Monaco\", \"Mongolia\", \"Montenegro\", \"Morocco\", \"Mozambique\", \"Myanmar (Burma)\", \"Namibia\", \"Nauru\", \"Nepal\", \"Netherlands\", \"New Zealand\", \"Nicaragua\", \"Niger\", \"Nigeria\", \"Norway\", \"Oman\", \"Pakistan\", \"Palau\", \"Panama\", \"Papua New Guinea\", \"Paraguay\", \"Peru\", \"Philippines\", \"Poland\", \"Portugal\", \"Qatar\", \"Romania\", \"Russia\", \"Rwanda\", \"Saint Kitts and Nevis\", \"Saint Lucia\", \"Saint Vincent and the Grenadines\", \"Samoa\", \"San Marino\", \"Sao Tome and Principe\", \"Saudi Arabia\", \"Senegal\", \"Serbia\", \"Seychelles\", \"Sierra Leone\", \"Singapore\", \"Slovakia\", \"Slovenia\", \"Solomon Islands\", \"Somalia\", \"South Africa\", \"South Sudan\", \"Spain\", \"Sri Lanka\", \"Sudan\", \"Suriname\", \"Swaziland\", \"Sweden\", \"Switzerland\", \"Syria\", \"Taiwan\", \"Tajikistan\", \"Tanzania\", \"Thailand\", \"Togo\", \"Tonga\", \"Trinidad and Tobago\", \"Tunisia\", \"Turkey\", \"Turkmenistan\", \"Tuvalu\", \"Uganda\", \"Ukraine\", \"United Arab Emirates\", \"United Kingdom\", \"United States of America\", \"Uruguay\", \"Uzbekistan\", \"Vanuatu\", \"Vatican City (Holy See)\", \"Venezuela\", \"Vietnam\", \"Yemen\", \"Zambia\", \"Zimbabwe\"]\n",
    "\n",
    "print(Countries)"
   ]
  },
  {
   "cell_type": "code",
   "execution_count": 60,
   "id": "31411f8c",
   "metadata": {},
   "outputs": [],
   "source": [
    "def search(List,string):\n",
    "    IN = []\n",
    "    for i in List:\n",
    "        if i[:2]==(string[0].upper()+string[1].lower()):\n",
    "            IN.append(i)\n",
    "        elif i[:2]==(string[0].lower()+string[1].lower()):\n",
    "            IN.append(i)\n",
    "    return print(IN)\n",
    "    "
   ]
  },
  {
   "cell_type": "code",
   "execution_count": 63,
   "id": "1fd06470",
   "metadata": {},
   "outputs": [
    {
     "name": "stdout",
     "output_type": "stream",
     "text": [
      "['Andorra', 'Angola', 'Antigua and Barbuda']\n"
     ]
    }
   ],
   "source": [
    "search(Countries,'An')"
   ]
  },
  {
   "cell_type": "code",
   "execution_count": 67,
   "id": "6cb1913a",
   "metadata": {},
   "outputs": [
    {
     "name": "stdout",
     "output_type": "stream",
     "text": [
      "macedonia\n",
      "pakistan\n",
      "palau\n",
      "panama\n",
      "papua new guinea\n",
      "paraguay\n"
     ]
    }
   ],
   "source": [
    "# Character Mistake, Samyukta\n",
    "key = 'pac'\n",
    "possible = []\n",
    "for country in Countries:\n",
    "    country = country.lower()\n",
    "    count = 0\n",
    "    for i,j in zip(key,country):\n",
    "        if i!=j:\n",
    "            count += 1\n",
    "    if count <= 1:\n",
    "        print(country)\n",
    "        "
   ]
  },
  {
   "cell_type": "code",
   "execution_count": 76,
   "id": "c8aa509b",
   "metadata": {},
   "outputs": [
    {
     "name": "stdout",
     "output_type": "stream",
     "text": [
      "Macedonia\n",
      "Pakistan\n",
      "Palau\n",
      "Panama\n",
      "Papua New Guinea\n",
      "Paraguay\n"
     ]
    }
   ],
   "source": [
    "# tutor solution\n",
    "key = 'pac'\n",
    "klen= len(key)\n",
    "key = key.lower()\n",
    "for country in Countries:\n",
    "    count = 0\n",
    "    country_sub = country[:klen].lower()\n",
    "    for i in range(klen):\n",
    "        if key[i] != country_sub[i]:\n",
    "            count += 1\n",
    "        if count > 1:\n",
    "            break\n",
    "    if count <= 1:\n",
    "        print(country)\n",
    "        "
   ]
  },
  {
   "cell_type": "code",
   "execution_count": 145,
   "id": "84b1dde3",
   "metadata": {},
   "outputs": [
    {
     "name": "stdout",
     "output_type": "stream",
     "text": [
      "Bangladesh\n"
     ]
    }
   ],
   "source": [
    "#Missing Character, Hritik- Good Code!!\n",
    "\n",
    "key = 'banglad'\n",
    "mis = 0\n",
    "i=0\n",
    "j=0\n",
    "for country in Countries:\n",
    "    while j<len(key) and i<len(country):\n",
    "        \n",
    "        if key[j] == country[i].lower():\n",
    "            i+=1\n",
    "            j+=1\n",
    "        else:\n",
    "            mis+=1\n",
    "            i+=1\n",
    "    if mis<=1 and j==len(key) :\n",
    "        print(country)\n",
    "    i = 0\n",
    "    j = 0\n",
    "    mis =0"
   ]
  },
  {
   "cell_type": "code",
   "execution_count": 142,
   "id": "1675cfba",
   "metadata": {},
   "outputs": [],
   "source": [
    "#Modified - Nothing significant but this one can handle any number of missing characters from anywhere, not case sensitive.\n",
    "def search_missing(List,key):\n",
    "    i=0\n",
    "    j=0\n",
    "    mis = 0\n",
    "    for word in List:\n",
    "        while j<len(key) and i<len(word):\n",
    "\n",
    "            if key[j].lower() == word[i].lower():\n",
    "                i+=1\n",
    "                j+=1\n",
    "            else:\n",
    "                mis+=1\n",
    "                i+=1\n",
    "\n",
    "        if mis==i-j and j==len(key):\n",
    "            print(word)\n",
    "\n",
    "        i = 0\n",
    "        j = 0\n",
    "        mis = 0"
   ]
  },
  {
   "cell_type": "code",
   "execution_count": 143,
   "id": "cb853ab4",
   "metadata": {},
   "outputs": [
    {
     "name": "stdout",
     "output_type": "stream",
     "text": [
      "Bangladesh\n"
     ]
    }
   ],
   "source": [
    "search_missing(Countries,'Bngl')"
   ]
  }
 ],
 "metadata": {
  "kernelspec": {
   "display_name": "Python 3",
   "language": "python",
   "name": "python3"
  },
  "language_info": {
   "codemirror_mode": {
    "name": "ipython",
    "version": 3
   },
   "file_extension": ".py",
   "mimetype": "text/x-python",
   "name": "python",
   "nbconvert_exporter": "python",
   "pygments_lexer": "ipython3",
   "version": "3.8.5"
  }
 },
 "nbformat": 4,
 "nbformat_minor": 5
}
