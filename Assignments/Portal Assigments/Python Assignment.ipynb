{
 "cells": [
  {
   "cell_type": "markdown",
   "id": "c663b937",
   "metadata": {},
   "source": [
    "1.\tA list rotation consists of taking the last element and moving it to the front. For instance, if we rotate the list [1,2,3,4,5], we get [5,1,2,3,4]. If we rotate it again, we get [4,5,1,2,3].\n",
    "Write a Python function rotatelist(ls,k) that takes a list ls and a positive integer k and returns the list ls after k rotations. If k is not positive, your function should return ls unchanged. Note that your function should not change ls itself, and should return the rotated list.\n",
    "\n",
    "Here are some examples to show how your function should work:\n",
    "•\trotatelist([1,2,3,4,5], 1)                 \t #output is [5, 1, 2, 3, 4] \n",
    "•\trotatelist([1,2,3,4,5], 3)  \t\t #output is [3, 4, 5, 1, 2] \n",
    "•\trotatelist([1,2,3,4,5], 12)  \t\t #output is[4, 5, 1, 2, 3]\n"
   ]
  },
  {
   "cell_type": "code",
   "execution_count": 1,
   "id": "3938410a",
   "metadata": {},
   "outputs": [],
   "source": [
    "def rotatelist(lst,k):\n",
    "    n_list = [i for i in lst]\n",
    "    r_list = [i for i in lst]\n",
    "    r_list[0] = lst[-1]\n",
    "    r_list[1:len(lst)] = lst[0:len(lst)-1]\n",
    "    for i in range(k):\n",
    "        n_list = rotatelist(r_list,i)\n",
    "    return n_list"
   ]
  },
  {
   "cell_type": "code",
   "execution_count": 2,
   "id": "3077267d",
   "metadata": {},
   "outputs": [
    {
     "data": {
      "text/plain": [
       "[4, 5, 1, 2, 3]"
      ]
     },
     "execution_count": 2,
     "metadata": {},
     "output_type": "execute_result"
    }
   ],
   "source": [
    "a = [1, 2, 3, 4, 5]\n",
    "rotatelist(a,12)"
   ]
  },
  {
   "cell_type": "markdown",
   "id": "cca24c0f",
   "metadata": {},
   "source": [
    "2.\tDefine a Python function ascending(ls) that returns True if each element in its input list is at least as big as the one before it. For empty list, it should be True. Here are some examples to show how your function should work.\n",
    "\n",
    "\n",
    "•\tascending([]) \t                 \t#returns True \n",
    "•\tascending([3,3,4])              \t#returns True \n",
    "•\tascending([7,18,17,19])   \t \t#returns False\n"
   ]
  },
  {
   "cell_type": "code",
   "execution_count": 3,
   "id": "55f6d2f4",
   "metadata": {},
   "outputs": [],
   "source": [
    "def ascending(lst):\n",
    "    if lst == []:\n",
    "        return True\n",
    "    for i in range(len(lst)):\n",
    "        if lst[i]>=lst[i+1]:\n",
    "            return True\n",
    "        else:\n",
    "            return False"
   ]
  },
  {
   "cell_type": "code",
   "execution_count": 4,
   "id": "bf0829b2",
   "metadata": {},
   "outputs": [
    {
     "data": {
      "text/plain": [
       "False"
      ]
     },
     "execution_count": 4,
     "metadata": {},
     "output_type": "execute_result"
    }
   ],
   "source": [
    "ascending([7,18,17,19])   "
   ]
  },
  {
   "cell_type": "markdown",
   "id": "1d5f907a",
   "metadata": {},
   "source": [
    "5.\tRead a sentence from keyboard input. Write a program to display a sorted list of tuples where each tuple contains a word in the sentence and its length. The sorting of tuples should be in a descending order of the length of words. If two words have same length, then they must be sorted based on the alphabetical order of words. For example, if the input string is ‘Hi how are you?”, then the output must be\n",
    "\n",
    "\n",
    "[(‘you?’, 4), (‘are’, 3), (‘how’, 3), (‘Hi’, 2)]\n"
   ]
  },
  {
   "cell_type": "code",
   "execution_count": 65,
   "id": "36a27b78",
   "metadata": {},
   "outputs": [
    {
     "name": "stdout",
     "output_type": "stream",
     "text": [
      "[('you?', 4), ('are', 3), ('how', 3), ('Hi', 2)]\n"
     ]
    }
   ],
   "source": [
    "sentence = 'Hi how are you?'\n",
    "\n",
    "tup_list = []\n",
    "n_list = []\n",
    "for i in sentence.split():\n",
    "    n = len(i)\n",
    "    tup = (i,n)\n",
    "    tup_list.append(tup)\n",
    "    n_list.append(n)\n",
    "    \n",
    "tup_list.sort(key = lambda tup: (-tup[1],tup[0]))\n",
    "\n",
    "print(tup_list)"
   ]
  }
 ],
 "metadata": {
  "kernelspec": {
   "display_name": "Python 3",
   "language": "python",
   "name": "python3"
  },
  "language_info": {
   "codemirror_mode": {
    "name": "ipython",
    "version": 3
   },
   "file_extension": ".py",
   "mimetype": "text/x-python",
   "name": "python",
   "nbconvert_exporter": "python",
   "pygments_lexer": "ipython3",
   "version": "3.8.5"
  }
 },
 "nbformat": 4,
 "nbformat_minor": 5
}
