{
 "cells": [
  {
   "cell_type": "code",
   "execution_count": 6,
   "id": "28d7ed1a",
   "metadata": {},
   "outputs": [
    {
     "name": "stdout",
     "output_type": "stream",
     "text": [
      "0     a\n",
      "1     b\n",
      "2     c\n",
      "3     e\n",
      "4     d\n",
      "5     f\n",
      "6     g\n",
      "7     h\n",
      "8     i\n",
      "9     j\n",
      "10    k\n",
      "11    l\n",
      "12    m\n",
      "13    n\n",
      "14    o\n",
      "15    p\n",
      "16    q\n",
      "17    r\n",
      "18    s\n",
      "19    t\n",
      "20    u\n",
      "21    v\n",
      "22    w\n",
      "23    x\n",
      "24    y\n",
      "25    z\n",
      "Name: alphabets, dtype: object\n"
     ]
    }
   ],
   "source": [
    "import pandas as pd\n",
    "inp = 'abcedfghijklmnopqrstuvwxyz'\n",
    "ls = pd.Series([i for i in inp], name='alphabets')\n",
    "print(ls)"
   ]
  },
  {
   "cell_type": "code",
   "execution_count": 1,
   "id": "0f5ffcba",
   "metadata": {},
   "outputs": [
    {
     "name": "stdout",
     "output_type": "stream",
     "text": [
      "2\n",
      "5\n",
      "8\n",
      "11\n"
     ]
    }
   ],
   "source": [
    "stp = 2\n",
    "enp = 11\n",
    "step = 3\n",
    "lst = [stp]\n",
    "if 1<=stp and stp<enp and enp<=10**5 and 2<=step and step<enp and enp<=10**5:\n",
    "    n = (enp-stp)/step + 1\n",
    "    for i in range(int(n)-1):\n",
    "        a = lst[i] + step\n",
    "        lst.append(a)\n",
    "    for j in lst:\n",
    "        print(j)\n",
    "else:\n",
    "    print('Constraints are failing!')"
   ]
  }
 ],
 "metadata": {
  "kernelspec": {
   "display_name": "Python 3",
   "language": "python",
   "name": "python3"
  },
  "language_info": {
   "codemirror_mode": {
    "name": "ipython",
    "version": 3
   },
   "file_extension": ".py",
   "mimetype": "text/x-python",
   "name": "python",
   "nbconvert_exporter": "python",
   "pygments_lexer": "ipython3",
   "version": "3.8.5"
  }
 },
 "nbformat": 4,
 "nbformat_minor": 5
}
